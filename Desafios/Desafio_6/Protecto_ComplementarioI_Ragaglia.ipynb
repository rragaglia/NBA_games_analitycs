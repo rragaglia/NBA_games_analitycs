{
 "cells": [
  {
   "attachments": {},
   "cell_type": "markdown",
   "id": "9154ff7e",
   "metadata": {},
   "source": [
    "### Evaluando modelos ML \n",
    "\n",
    "Esta entrega complementeria permitira discutir acerca del rendimiento de la prediccion planteada por el modelo del Desafio 6 y si el mismo posee un sobreajuste o subajuste.Para esto cargaremos los datos anteriores y sus herramientas previas"
   ]
  },
  {
   "cell_type": "code",
   "execution_count": 1,
   "id": "77485846",
   "metadata": {},
   "outputs": [],
   "source": [
    "import os\n",
    "import pandas as pd\n",
    "import numpy as np\n",
    "from sklearn.linear_model import LogisticRegression\n",
    "from sklearn.model_selection import train_test_split\n",
    "from sklearn.decomposition import PCA"
   ]
  },
  {
   "cell_type": "code",
   "execution_count": 2,
   "id": "4124c7e3",
   "metadata": {},
   "outputs": [
    {
     "name": "stdout",
     "output_type": "stream",
     "text": [
      "<class 'pandas.core.frame.DataFrame'>\n",
      "Int64Index: 25697 entries, 0 to 25795\n",
      "Data columns (total 21 columns):\n",
      " #   Column            Non-Null Count  Dtype  \n",
      "---  ------            --------------  -----  \n",
      " 0   GAME_DATE_EST     25697 non-null  object \n",
      " 1   GAME_ID           25697 non-null  int64  \n",
      " 2   GAME_STATUS_TEXT  25697 non-null  object \n",
      " 3   HOME_TEAM_ID      25697 non-null  int64  \n",
      " 4   VISITOR_TEAM_ID   25697 non-null  int64  \n",
      " 5   SEASON            25697 non-null  int64  \n",
      " 6   TEAM_ID_home      25697 non-null  int64  \n",
      " 7   PTS_home          25697 non-null  float64\n",
      " 8   FG_PCT_home       25697 non-null  float64\n",
      " 9   FT_PCT_home       25697 non-null  float64\n",
      " 10  FG3_PCT_home      25697 non-null  float64\n",
      " 11  AST_home          25697 non-null  float64\n",
      " 12  REB_home          25697 non-null  float64\n",
      " 13  TEAM_ID_away      25697 non-null  int64  \n",
      " 14  PTS_away          25697 non-null  float64\n",
      " 15  FG_PCT_away       25697 non-null  float64\n",
      " 16  FT_PCT_away       25697 non-null  float64\n",
      " 17  FG3_PCT_away      25697 non-null  float64\n",
      " 18  AST_away          25697 non-null  float64\n",
      " 19  REB_away          25697 non-null  float64\n",
      " 20  HOME_TEAM_WINS    25697 non-null  int64  \n",
      "dtypes: float64(12), int64(7), object(2)\n",
      "memory usage: 4.3+ MB\n"
     ]
    }
   ],
   "source": [
    "os.chdir('D:/Desktop/Coderhouse/Desafios/Desafio_1/data/raw')\n",
    "ds_path='games.csv'\n",
    "df = pd.read_csv(ds_path)\n",
    "df=df.dropna()\n",
    "df.info()"
   ]
  },
  {
   "cell_type": "code",
   "execution_count": 3,
   "id": "f88f5d43",
   "metadata": {},
   "outputs": [
    {
     "name": "stdout",
     "output_type": "stream",
     "text": [
      "Exactitud del modelo: 1.0\n"
     ]
    }
   ],
   "source": [
    "\n",
    "X = df[['PTS_home', 'FG_PCT_home', 'PTS_away', 'FG_PCT_away']]\n",
    "y = df['HOME_TEAM_WINS']\n",
    "pca = PCA(n_components=2)\n",
    "X_pca = pca.fit_transform(X)\n",
    "logreg = LogisticRegression()\n",
    "logreg.fit(X_pca, y)\n",
    "X_train, X_test, y_train, y_test = train_test_split(X_pca, y, test_size=0.3, random_state=42)\n",
    "logreg = LogisticRegression()\n",
    "logreg.fit(X_train, y_train)\n",
    "score = logreg.score(X_test, y_test)\n",
    "print(\"Exactitud del modelo:\", score)"
   ]
  },
  {
   "cell_type": "code",
   "execution_count": 4,
   "id": "bd4ddfce",
   "metadata": {},
   "outputs": [
    {
     "name": "stdout",
     "output_type": "stream",
     "text": [
      "[[3108    0]\n",
      " [   0 4602]]\n"
     ]
    }
   ],
   "source": [
    "from sklearn.metrics import confusion_matrix\n",
    "y_pred=logreg.predict(X_test)\n",
    "cm = confusion_matrix(y_test, y_pred)\n",
    "print(cm)"
   ]
  },
  {
   "attachments": {},
   "cell_type": "markdown",
   "id": "355fee2e",
   "metadata": {},
   "source": [
    "La matriz obtenida tiene dos filas y dos columnas, lo que significa que se trata de un problema de clasificación binaria en el que hay dos clases posibles. En este caso, la clase positiva 1 representa la victoria del equipo local, mientras que la clase negativa 0 representa la derrota del equipo local. La diagonal principal de la matriz representa las predicciones correctas, mientras que las demás entradas representan las predicciones incorrectas.\n",
    "\n",
    "En este caso, la matriz de confusión indica que no hubo falsos positivos ni falsos negativos en las predicciones, lo que sugiere que el modelo tiene una alta precisión y es capaz de predecir correctamente si un equipo local ganará o perderá un partido de baloncesto."
   ]
  }
 ],
 "metadata": {
  "kernelspec": {
   "display_name": "Python 3 (ipykernel)",
   "language": "python",
   "name": "python3"
  },
  "language_info": {
   "codemirror_mode": {
    "name": "ipython",
    "version": 3
   },
   "file_extension": ".py",
   "mimetype": "text/x-python",
   "name": "python",
   "nbconvert_exporter": "python",
   "pygments_lexer": "ipython3",
   "version": "3.9.6"
  }
 },
 "nbformat": 4,
 "nbformat_minor": 5
}
