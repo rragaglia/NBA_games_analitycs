{
  "nbformat": 4,
  "nbformat_minor": 0,
  "metadata": {
    "colab": {
      "provenance": []
    },
    "kernelspec": {
      "name": "python3",
      "display_name": "Python 3"
    },
    "language_info": {
      "name": "python"
    }
  },
  "cells": [
    {
      "cell_type": "markdown",
      "source": [
        "#Desafio 1: Eleccion de datasets\n",
        "Se empezara importando la libreria que provee google colab para acceder a los archivos en drive y la libreria de pandas para la formacion de dataframes."
      ],
      "metadata": {
        "id": "spr5ShG0zf6U"
      }
    },
    {
      "cell_type": "code",
      "execution_count": null,
      "metadata": {
        "id": "Dic0XG7yYbVy",
        "colab": {
          "base_uri": "https://localhost:8080/"
        },
        "outputId": "e486efa3-1bef-4d7b-cb99-240648ae3c62"
      },
      "outputs": [
        {
          "output_type": "stream",
          "name": "stdout",
          "text": [
            "Mounted at /content/drive\n"
          ]
        }
      ],
      "source": [
        "from google.colab import drive\n",
        "drive.mount('/content/drive')"
      ]
    },
    {
      "cell_type": "code",
      "source": [
        "import pandas as pd"
      ],
      "metadata": {
        "id": "_A0GTTI2a546"
      },
      "execution_count": null,
      "outputs": []
    },
    {
      "cell_type": "markdown",
      "source": [
        "##Dataset 1:\n",
        "\n",
        "Este dataset es un registro de los resultados de los partidos de la NBA (National Basketball Association) durante las temporadsa 2014-2022. Incluye información sobre la fecha , los equipos que jugaron, el resultado final ademas de estadísticas detalladas para cada equipo, incluyendo anotaciones, porcentaje de tiros de campo, porcentaje de tiros libres, etc.\n",
        "Se tiene la hipotesis de que la mayoria de los equipos poseen mejores resultados durante un partido de local, que puede estar influenciado por la costumbre a la distancia del aro .Tambien se desea un analisis de influencia de los equipos para las sig temporadas . Haciendo uso de las siguiente variables y un analisis del mismo podremos saberlo:\n",
        "\n",
        "GAME_DATE_EST: Fecha del partido \n",
        "\n",
        "GAME_STATUS_TEXT: Estado final del partido \n",
        "\n",
        "HOME_TEAM_ID: ID del equipo local\n",
        "\n",
        "VISITOR_TEAM_ID: ID del equipo visitante\n",
        "\n",
        "PTS_home: Puntos anotados por el equipo local.\n",
        "\n",
        "FG_PCT_home: Porcentaje de tiros de campo del equipo local\n",
        "\n",
        "PTS_away: Puntos anotados por el equipo visitante.\n",
        "\n",
        "FG_PCT_away: Porcentaje de tiros de campo del equipo visitante\n",
        "\n",
        "HOME_TEAM_WINS: Indicador de si el equipo local ganó el partido o no."
      ],
      "metadata": {
        "id": "HJgSC2VNxbBu"
      }
    },
    {
      "cell_type": "code",
      "source": [
        "path_ds1 = 'D:\\Desktop\\Coderhouse\\Desafios\\Desafio_1\\data\\raw\\games.csv'\n",
        "nba_games_df = pd.read_csv(path_ds1)"
      ],
      "metadata": {
        "id": "uO7wD6d2pVaO"
      },
      "execution_count": null,
      "outputs": []
    },
    {
      "cell_type": "code",
      "source": [
        "nba_games.shape"
      ],
      "metadata": {
        "id": "7ltaYl4bvPZL",
        "colab": {
          "base_uri": "https://localhost:8080/"
        },
        "outputId": "503d367c-029c-4d62-dbd0-51d051d12351"
      },
      "execution_count": null,
      "outputs": [
        {
          "output_type": "execute_result",
          "data": {
            "text/plain": [
              "(25796, 21)"
            ]
          },
          "metadata": {},
          "execution_count": 13
        }
      ]
    },
    {
      "cell_type": "markdown",
      "source": [
        "\n",
        "\n",
        "---\n",
        "\n"
      ],
      "metadata": {
        "id": "SY2krsH29vQ3"
      }
    },
    {
      "cell_type": "markdown",
      "source": [
        "##Dataset 2:\n",
        "Corresponde a viajes de taxis en la ciudad de Nueva York durante el mes de enero de 2020 de mas de una agecia de taxis. Cada fila representa un viaje y contiene información como la fecha y hora de inicio y finalización del viaje, la ubicación de recogida y entrega, la distancia recorrida, el costo del viaje y la forma de pago.\n",
        "Para optimizar las ganancias y establecer un mejor piso de ganancias , se dispuso a predecir cuanto podria ser la ganancia total del viaje , considerando los factores del viaje , la propina y sus metodos de pagos. Para esto seria necesario:\n",
        "\n",
        "RatecodeID: identificador del tipo de tarifa aplicada al viaje.\n",
        "\n",
        "lpep_pickup_datetime: fecha y hora de inicio del viaje en formato \"aaaa-mm-dd hh:mm:ss\".\n",
        "\n",
        "lpep_dropoff_datetime: fecha y hora de finalización del viaje en formato \"aaaa-mm-dd hh:mm:ss\".\n",
        "\n",
        "passenger_count: número de pasajeros en el viaje.\n",
        "\n",
        "trip_distance: distancia del viaje en millas.\n",
        "\n",
        "extra: cantidad de dinero adicional cobrada al pasajero por razones diversas, como pago en peajes o aeropuertos\n",
        "\n",
        "mta_tax: impuesto de la Autoridad Metropolitana del Transporte (MTA) en Nueva York.\n",
        "\n",
        "tolls_amount: cantidad de peaje en dólares para el viaje.\n",
        "\n",
        "payment_type: forma de pago utilizada para el viaje (efectivo o tarjeta de crédito).\n",
        "\n",
        "congestion_surcharge: sobrecargo de congestión cobrado en viajes que pasan por la zona de congestión del centro de la ciudad de Nueva York.\n",
        "\n",
        "fare_amount: costo básico del viaje antes de agregar cargos adicionales.\n",
        "\n",
        "total_amount: costo total del viaje, incluyendo cargos adicionales y propina.\n",
        "\n",
        "tip_amount: propina dada por el pasajero."
      ],
      "metadata": {
        "id": "JSmT14ZRvZIW"
      }
    },
    {
      "cell_type": "code",
      "source": [
        "path_ds2 = 'D:\\Desktop\\Coderhouse\\Desafios\\Desafio_1\\data\\raw\\2020_taxi_trips.csv'\n",
        "taxi_trips_df = pd.read_csv(path_ds2)"
      ],
      "metadata": {
        "colab": {
          "base_uri": "https://localhost:8080/"
        },
        "id": "CheTUjsECYzJ",
        "outputId": "b23f8485-c3a8-4de0-aa3a-be381e0804d1"
      },
      "execution_count": null,
      "outputs": [
        {
          "output_type": "stream",
          "name": "stderr",
          "text": [
            "/usr/local/lib/python3.8/dist-packages/IPython/core/interactiveshell.py:3326: DtypeWarning: Columns (3) have mixed types.Specify dtype option on import or set low_memory=False.\n",
            "  exec(code_obj, self.user_global_ns, self.user_ns)\n"
          ]
        }
      ]
    },
    {
      "cell_type": "code",
      "source": [
        "taxi_trips_df.shape"
      ],
      "metadata": {
        "colab": {
          "base_uri": "https://localhost:8080/"
        },
        "id": "02GvmqmnCv3e",
        "outputId": "6640495c-a325-4b66-c4a7-6e41f50f2b89"
      },
      "execution_count": null,
      "outputs": [
        {
          "output_type": "execute_result",
          "data": {
            "text/plain": [
              "(1734051, 19)"
            ]
          },
          "metadata": {},
          "execution_count": 21
        }
      ]
    },
    {
      "cell_type": "markdown",
      "source": [
        "\n",
        "\n",
        "---\n",
        "\n"
      ],
      "metadata": {
        "id": "Iyy396M99sHS"
      }
    },
    {
      "cell_type": "markdown",
      "source": [
        "##Dataset 3 :\n",
        "\n",
        "Describe las transacciones de transporte de combustible a distintos puntos como bencineras, estacione s de servicio y empresas durante los primeros meses del 2022. Es conveniente predecir en algunos casos los excedente o las demandas de las sucursales segun las transacciones realizadas segun los vehivulos que cargan por sucursal, por lo tanto ,  se desea saber donde y cuando se realizan las mayores cargas y poder cumplir con la demanda, asi se usara:\n",
        "\n",
        "unique_id_transa: Identificador único de la transacción.\n",
        "\n",
        "id_vehiculo : Identificador del vehículo .\n",
        "\n",
        "id_equipo: Identificador del equipo.\n",
        "\n",
        "producto : Producto adquirido en la transacción.\n",
        "\n",
        "id_bomba: Identificador de la bomba.\n",
        "\n",
        "id_tanque: Identificador del tanque.\n",
        "\n",
        "departamento: Departamento en el que se realizó la transacción.\n",
        "\n",
        "cantidad: Cantidad de producto adquirido en la transacción.\n",
        "\n",
        "timestamp: Marca de tiempo en la que se realizó la transacción\n",
        "\n",
        "nombre_prod: Nombre del producto adquirido en la transacción.\n",
        "\n",
        "veh_efficienc: Eficiencia del vehículo.\n",
        "\n",
        "volumen_inicial: Volumen inicial del producto.\n",
        "\n",
        "volumen_final: Volumen final del producto.\n",
        "\n",
        "codigo_producto: Código del producto adquirido.\n",
        "\n",
        "geo_latitud: Latitud geográfica.\n",
        "\n",
        "geo_longitud: Longitud geográfica.\n",
        "\n",
        "id_empresa: Identificador de la empresa.\n",
        "\n",
        "id_industria: Identificador de la industria"
      ],
      "metadata": {
        "id": "sD-d_jZEa3tZ"
      }
    },
    {
      "cell_type": "code",
      "source": [
        "path_df3 = 'D:\\Desktop\\Coderhouse\\Desafios\\Desafio_1\\data\\raw\\transacciones_surtidor.csv'\n",
        "fuel_tx_df = pd.read_csv(path_df3)"
      ],
      "metadata": {
        "colab": {
          "base_uri": "https://localhost:8080/"
        },
        "id": "DDe0_Rt_c7k5",
        "outputId": "3a9e57e4-9a70-4a60-8096-167a9dc29711"
      },
      "execution_count": null,
      "outputs": [
        {
          "output_type": "stream",
          "name": "stderr",
          "text": [
            "/usr/local/lib/python3.8/dist-packages/IPython/core/interactiveshell.py:3326: DtypeWarning: Columns (12) have mixed types.Specify dtype option on import or set low_memory=False.\n",
            "  exec(code_obj, self.user_global_ns, self.user_ns)\n"
          ]
        }
      ]
    },
    {
      "cell_type": "code",
      "source": [
        "fuel_tx_df.shape"
      ],
      "metadata": {
        "colab": {
          "base_uri": "https://localhost:8080/"
        },
        "id": "TBpSAHtcDsR4",
        "outputId": "d02114e6-ceaf-4e04-f4d5-33be72354001"
      },
      "execution_count": null,
      "outputs": [
        {
          "output_type": "execute_result",
          "data": {
            "text/plain": [
              "(561747, 32)"
            ]
          },
          "metadata": {},
          "execution_count": 23
        }
      ]
    },
    {
      "cell_type": "markdown",
      "source": [
        "\n",
        "\n",
        "---\n",
        "\n"
      ],
      "metadata": {
        "id": "1w085ZOq9x6_"
      }
    }
  ]
}