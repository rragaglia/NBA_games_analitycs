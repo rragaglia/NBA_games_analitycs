{
 "cells": [
  {
   "cell_type": "markdown",
   "metadata": {},
   "source": [
    "# Abstract \n",
    "\n",
    "La posibilidad que brindan los sistemas automatizados de decision y clasificacion son sobresalientes al producir mejoras de producto y reducir costos o aumentar ganacias, de manera sistematica y eficaz. Muchas empresas relacionadas al juego y apuestas utilizan esto para predecir numeros ante la gran cantidad de datos que se nos brinda dados en el dataset. Asi mismo , el cliente propone una solucion practica ante las circunstacias economicas que atraviesa.\n",
    "\n",
    "En base a esta informacion , se puede hacer una investigacion y resolver las practicas beneficiosas de los jugadores y del equipo en cada uno de los juegos, es decir , es posible hacer preguntas y responderlas para obtener nuevos conocimientos sobre los equipos, los jugadores y la competencia en sí. Por ejemplo, se puede analizar la tendencia de los equipos en casa y fuera de casa, las estadísticas de los jugadores en diferentes momentos del partido, o el porcentaje de victorias y derrotas de los equipos.\n",
    "\n",
    "Este proyecto se basara en utilizar los datos disponibles para encontrar las diferencias y probrabilidades en cada partido dado durante los años jugados por la NBA. El objetivo se centrara en poder adquirir una variable que determine un numero en el cual se basara la cuota cobrada por el sistema de apuestas. Ademas , este analisis proovera al cliente con el gran beneficio del conocimiento y la ventaja por sobre la competencia , o hacia los mismos usuarios de la plataforma.\n",
    "\n",
    "Asi, lo visto durante un analisis exploratorio de los datos y las caracteristicas del conjunto , se plantearan las primeras hipotesis para luego establecer un modelo predictivo de los datos de interes. Luego de un resultado final , se podra verificar el uso de las herramientas y las capacidades un sistema de ML."
   ]
  },
  {
   "cell_type": "markdown",
   "metadata": {},
   "source": [
    "# Desafio Complementario: CrossValidation y mejora de modelos de ML "
   ]
  },
  {
   "cell_type": "markdown",
   "metadata": {},
   "source": [
    "En este proyecto, se busca demostrar la capacidad de predecir la victoria de un equipo en tiempo real en partidos de la NBA utilizando datos históricos. Para ello, se cuenta con un conjunto de datos que incluye diversas variables relacionadas con los equipos y sus actuaciones en temporadas entre 2003 y 2021. El objetivo es desarrollar un modelo de Machine Learning que permita realizar predicciones precisas utilizando cross-validation para evaluar su rendimiento. Las variables más relevantes para el modelo son 'PTS_home', 'FG_PCT_home', 'PTS_away' y 'FG_PCT_away'.\n",
    "\n",
    "El modelo será implementado utilizando bibliotecas populares de Python como pandas, scikit-learn y numpy. Se seguirán los siguientes pasos:\n",
    "\n",
    "1. Carga de datos y preprocesamiento: Se leerán los datos del dataset y se eliminarán las columnas innecesarias. Además, se realizará un análisis exploratorio para entender mejor los datos y su distribución.\n",
    "\n",
    "2. División de datos: Se separarán los datos en características (X) y etiquetas (y). Las características serán las variables 'PTS_home', 'FG_PCT_home', 'PTS_away' y 'FG_PCT_away', mientras que la etiqueta será 'HOME_TEAM_WINS'.\n",
    "\n",
    "3. Modelo de Machine Learning: Se entrenará un modelo de clasificación utilizando un algoritmo como Regresión Logística, Support Vector Machines o Random Forest.\n",
    "\n",
    "4. Cross-Validation: Se implementará Cross-Validation para evaluar el rendimiento del modelo. Esto implica dividir el conjunto de datos en k subconjuntos (folds), entrenar el modelo en k-1 de ellos y evaluarlo en el fold restante. Este proceso se repetirá k veces, y se calculará la métrica de evaluación (por ejemplo, precisión) promediando los resultados obtenidos.\n",
    "\n",
    "5. Predicciones en tiempo real: Finalmente, se utilizará el modelo entrenado para realizar predicciones en tiempo real sobre los partidos de la NBA que estén ocurriendo.\n",
    "\n",
    "El proyecto demuestra que es posible predecir la victoria de un equipo en tiempo real en partidos de la NBA utilizando datos históricos. El uso de Cross-Validation ha permitido evaluar el rendimiento del modelo de manera más robusta, evitando problemas de sobreajuste y subestimación del error de predicción. Es importante tener en cuenta que, aunque se ha utilizado un conjunto de variables reducido, existen muchas otras características y técnicas de Machine Learning que podrían mejorar aún más la precisión del modelo. En futuras iteraciones del proyecto, se podrían explorar otros algoritmos de clasificación, ingeniería de características y modelos de ensamble para seguir mejorando las predicciones en tiempo real en este emocionante campo de Data Science aplicado al deporte."
   ]
  },
  {
   "cell_type": "markdown",
   "metadata": {},
   "source": [
    "A continuación, se presenta el código del proyecto para la predicción en tiempo real de la victoria en partidos de la NBA utilizando Cross-Validation:\n"
   ]
  },
  {
   "cell_type": "code",
   "execution_count": 3,
   "metadata": {},
   "outputs": [],
   "source": [
    "import pandas as pd\n",
    "import numpy as np\n",
    "import os\n",
    "from sklearn.model_selection import train_test_split, cross_val_score\n",
    "from sklearn.linear_model import LogisticRegression\n",
    "from sklearn.metrics import accuracy_score\n",
    "\n",
    "#Acceso al dataset y armado del dataframe base\n",
    "os.chdir('D:/Documents/GitHub/NBA_games_analitycs/data')\n",
    "ds_path='clean_games.csv'\n",
    "data = pd.read_csv(ds_path)"
   ]
  },
  {
   "cell_type": "code",
   "execution_count": 4,
   "metadata": {},
   "outputs": [
    {
     "ename": "ValueError",
     "evalue": "\nAll the 5 fits failed.\nIt is very likely that your model is misconfigured.\nYou can try to debug the error by setting error_score='raise'.\n\nBelow are more details about the failures:\n--------------------------------------------------------------------------------\n1 fits failed with the following error:\nTraceback (most recent call last):\n  File \"c:\\Users\\Roberto\\AppData\\Local\\Programs\\Python\\Python39\\lib\\site-packages\\sklearn\\model_selection\\_validation.py\", line 686, in _fit_and_score\n    estimator.fit(X_train, y_train, **fit_params)\n  File \"c:\\Users\\Roberto\\AppData\\Local\\Programs\\Python\\Python39\\lib\\site-packages\\sklearn\\linear_model\\_logistic.py\", line 1196, in fit\n    X, y = self._validate_data(\n  File \"c:\\Users\\Roberto\\AppData\\Local\\Programs\\Python\\Python39\\lib\\site-packages\\sklearn\\base.py\", line 584, in _validate_data\n    X, y = check_X_y(X, y, **check_params)\n  File \"c:\\Users\\Roberto\\AppData\\Local\\Programs\\Python\\Python39\\lib\\site-packages\\sklearn\\utils\\validation.py\", line 1106, in check_X_y\n    X = check_array(\n  File \"c:\\Users\\Roberto\\AppData\\Local\\Programs\\Python\\Python39\\lib\\site-packages\\sklearn\\utils\\validation.py\", line 879, in check_array\n    array = _asarray_with_order(array, order=order, dtype=dtype, xp=xp)\n  File \"c:\\Users\\Roberto\\AppData\\Local\\Programs\\Python\\Python39\\lib\\site-packages\\sklearn\\utils\\_array_api.py\", line 185, in _asarray_with_order\n    array = numpy.asarray(array, order=order, dtype=dtype)\n  File \"c:\\Users\\Roberto\\AppData\\Local\\Programs\\Python\\Python39\\lib\\site-packages\\pandas\\core\\generic.py\", line 2072, in __array__\n    return np.asarray(self._values, dtype=dtype)\nValueError: could not convert string to float: '2013-04-15'\n\n--------------------------------------------------------------------------------\n4 fits failed with the following error:\nTraceback (most recent call last):\n  File \"c:\\Users\\Roberto\\AppData\\Local\\Programs\\Python\\Python39\\lib\\site-packages\\sklearn\\model_selection\\_validation.py\", line 686, in _fit_and_score\n    estimator.fit(X_train, y_train, **fit_params)\n  File \"c:\\Users\\Roberto\\AppData\\Local\\Programs\\Python\\Python39\\lib\\site-packages\\sklearn\\linear_model\\_logistic.py\", line 1196, in fit\n    X, y = self._validate_data(\n  File \"c:\\Users\\Roberto\\AppData\\Local\\Programs\\Python\\Python39\\lib\\site-packages\\sklearn\\base.py\", line 584, in _validate_data\n    X, y = check_X_y(X, y, **check_params)\n  File \"c:\\Users\\Roberto\\AppData\\Local\\Programs\\Python\\Python39\\lib\\site-packages\\sklearn\\utils\\validation.py\", line 1106, in check_X_y\n    X = check_array(\n  File \"c:\\Users\\Roberto\\AppData\\Local\\Programs\\Python\\Python39\\lib\\site-packages\\sklearn\\utils\\validation.py\", line 879, in check_array\n    array = _asarray_with_order(array, order=order, dtype=dtype, xp=xp)\n  File \"c:\\Users\\Roberto\\AppData\\Local\\Programs\\Python\\Python39\\lib\\site-packages\\sklearn\\utils\\_array_api.py\", line 185, in _asarray_with_order\n    array = numpy.asarray(array, order=order, dtype=dtype)\n  File \"c:\\Users\\Roberto\\AppData\\Local\\Programs\\Python\\Python39\\lib\\site-packages\\pandas\\core\\generic.py\", line 2072, in __array__\n    return np.asarray(self._values, dtype=dtype)\nValueError: could not convert string to float: '2022-03-12'\n",
     "output_type": "error",
     "traceback": [
      "\u001b[1;31m---------------------------------------------------------------------------\u001b[0m",
      "\u001b[1;31mValueError\u001b[0m                                Traceback (most recent call last)",
      "Cell \u001b[1;32mIn[4], line 10\u001b[0m\n\u001b[0;32m      8\u001b[0m \u001b[39m# Implementación de Cross-Validation\u001b[39;00m\n\u001b[0;32m      9\u001b[0m k \u001b[39m=\u001b[39m \u001b[39m5\u001b[39m  \u001b[39m# Número de folds para Cross-Validation\u001b[39;00m\n\u001b[1;32m---> 10\u001b[0m cv_scores \u001b[39m=\u001b[39m cross_val_score(model, X, y, cv\u001b[39m=\u001b[39;49mk, scoring\u001b[39m=\u001b[39;49m\u001b[39m'\u001b[39;49m\u001b[39maccuracy\u001b[39;49m\u001b[39m'\u001b[39;49m)\n\u001b[0;32m     12\u001b[0m \u001b[39m# Cálculo del promedio de precisión en Cross-Validation\u001b[39;00m\n\u001b[0;32m     13\u001b[0m mean_cv_accuracy \u001b[39m=\u001b[39m np\u001b[39m.\u001b[39mmean(cv_scores)\n",
      "File \u001b[1;32mc:\\Users\\Roberto\\AppData\\Local\\Programs\\Python\\Python39\\lib\\site-packages\\sklearn\\model_selection\\_validation.py:515\u001b[0m, in \u001b[0;36mcross_val_score\u001b[1;34m(estimator, X, y, groups, scoring, cv, n_jobs, verbose, fit_params, pre_dispatch, error_score)\u001b[0m\n\u001b[0;32m    512\u001b[0m \u001b[39m# To ensure multimetric format is not supported\u001b[39;00m\n\u001b[0;32m    513\u001b[0m scorer \u001b[39m=\u001b[39m check_scoring(estimator, scoring\u001b[39m=\u001b[39mscoring)\n\u001b[1;32m--> 515\u001b[0m cv_results \u001b[39m=\u001b[39m cross_validate(\n\u001b[0;32m    516\u001b[0m     estimator\u001b[39m=\u001b[39;49mestimator,\n\u001b[0;32m    517\u001b[0m     X\u001b[39m=\u001b[39;49mX,\n\u001b[0;32m    518\u001b[0m     y\u001b[39m=\u001b[39;49my,\n\u001b[0;32m    519\u001b[0m     groups\u001b[39m=\u001b[39;49mgroups,\n\u001b[0;32m    520\u001b[0m     scoring\u001b[39m=\u001b[39;49m{\u001b[39m\"\u001b[39;49m\u001b[39mscore\u001b[39;49m\u001b[39m\"\u001b[39;49m: scorer},\n\u001b[0;32m    521\u001b[0m     cv\u001b[39m=\u001b[39;49mcv,\n\u001b[0;32m    522\u001b[0m     n_jobs\u001b[39m=\u001b[39;49mn_jobs,\n\u001b[0;32m    523\u001b[0m     verbose\u001b[39m=\u001b[39;49mverbose,\n\u001b[0;32m    524\u001b[0m     fit_params\u001b[39m=\u001b[39;49mfit_params,\n\u001b[0;32m    525\u001b[0m     pre_dispatch\u001b[39m=\u001b[39;49mpre_dispatch,\n\u001b[0;32m    526\u001b[0m     error_score\u001b[39m=\u001b[39;49merror_score,\n\u001b[0;32m    527\u001b[0m )\n\u001b[0;32m    528\u001b[0m \u001b[39mreturn\u001b[39;00m cv_results[\u001b[39m\"\u001b[39m\u001b[39mtest_score\u001b[39m\u001b[39m\"\u001b[39m]\n",
      "File \u001b[1;32mc:\\Users\\Roberto\\AppData\\Local\\Programs\\Python\\Python39\\lib\\site-packages\\sklearn\\model_selection\\_validation.py:285\u001b[0m, in \u001b[0;36mcross_validate\u001b[1;34m(estimator, X, y, groups, scoring, cv, n_jobs, verbose, fit_params, pre_dispatch, return_train_score, return_estimator, error_score)\u001b[0m\n\u001b[0;32m    265\u001b[0m parallel \u001b[39m=\u001b[39m Parallel(n_jobs\u001b[39m=\u001b[39mn_jobs, verbose\u001b[39m=\u001b[39mverbose, pre_dispatch\u001b[39m=\u001b[39mpre_dispatch)\n\u001b[0;32m    266\u001b[0m results \u001b[39m=\u001b[39m parallel(\n\u001b[0;32m    267\u001b[0m     delayed(_fit_and_score)(\n\u001b[0;32m    268\u001b[0m         clone(estimator),\n\u001b[1;32m   (...)\u001b[0m\n\u001b[0;32m    282\u001b[0m     \u001b[39mfor\u001b[39;00m train, test \u001b[39min\u001b[39;00m cv\u001b[39m.\u001b[39msplit(X, y, groups)\n\u001b[0;32m    283\u001b[0m )\n\u001b[1;32m--> 285\u001b[0m _warn_or_raise_about_fit_failures(results, error_score)\n\u001b[0;32m    287\u001b[0m \u001b[39m# For callabe scoring, the return type is only know after calling. If the\u001b[39;00m\n\u001b[0;32m    288\u001b[0m \u001b[39m# return type is a dictionary, the error scores can now be inserted with\u001b[39;00m\n\u001b[0;32m    289\u001b[0m \u001b[39m# the correct key.\u001b[39;00m\n\u001b[0;32m    290\u001b[0m \u001b[39mif\u001b[39;00m callable(scoring):\n",
      "File \u001b[1;32mc:\\Users\\Roberto\\AppData\\Local\\Programs\\Python\\Python39\\lib\\site-packages\\sklearn\\model_selection\\_validation.py:367\u001b[0m, in \u001b[0;36m_warn_or_raise_about_fit_failures\u001b[1;34m(results, error_score)\u001b[0m\n\u001b[0;32m    360\u001b[0m \u001b[39mif\u001b[39;00m num_failed_fits \u001b[39m==\u001b[39m num_fits:\n\u001b[0;32m    361\u001b[0m     all_fits_failed_message \u001b[39m=\u001b[39m (\n\u001b[0;32m    362\u001b[0m         \u001b[39mf\u001b[39m\u001b[39m\"\u001b[39m\u001b[39m\\n\u001b[39;00m\u001b[39mAll the \u001b[39m\u001b[39m{\u001b[39;00mnum_fits\u001b[39m}\u001b[39;00m\u001b[39m fits failed.\u001b[39m\u001b[39m\\n\u001b[39;00m\u001b[39m\"\u001b[39m\n\u001b[0;32m    363\u001b[0m         \u001b[39m\"\u001b[39m\u001b[39mIt is very likely that your model is misconfigured.\u001b[39m\u001b[39m\\n\u001b[39;00m\u001b[39m\"\u001b[39m\n\u001b[0;32m    364\u001b[0m         \u001b[39m\"\u001b[39m\u001b[39mYou can try to debug the error by setting error_score=\u001b[39m\u001b[39m'\u001b[39m\u001b[39mraise\u001b[39m\u001b[39m'\u001b[39m\u001b[39m.\u001b[39m\u001b[39m\\n\u001b[39;00m\u001b[39m\\n\u001b[39;00m\u001b[39m\"\u001b[39m\n\u001b[0;32m    365\u001b[0m         \u001b[39mf\u001b[39m\u001b[39m\"\u001b[39m\u001b[39mBelow are more details about the failures:\u001b[39m\u001b[39m\\n\u001b[39;00m\u001b[39m{\u001b[39;00mfit_errors_summary\u001b[39m}\u001b[39;00m\u001b[39m\"\u001b[39m\n\u001b[0;32m    366\u001b[0m     )\n\u001b[1;32m--> 367\u001b[0m     \u001b[39mraise\u001b[39;00m \u001b[39mValueError\u001b[39;00m(all_fits_failed_message)\n\u001b[0;32m    369\u001b[0m \u001b[39melse\u001b[39;00m:\n\u001b[0;32m    370\u001b[0m     some_fits_failed_message \u001b[39m=\u001b[39m (\n\u001b[0;32m    371\u001b[0m         \u001b[39mf\u001b[39m\u001b[39m\"\u001b[39m\u001b[39m\\n\u001b[39;00m\u001b[39m{\u001b[39;00mnum_failed_fits\u001b[39m}\u001b[39;00m\u001b[39m fits failed out of a total of \u001b[39m\u001b[39m{\u001b[39;00mnum_fits\u001b[39m}\u001b[39;00m\u001b[39m.\u001b[39m\u001b[39m\\n\u001b[39;00m\u001b[39m\"\u001b[39m\n\u001b[0;32m    372\u001b[0m         \u001b[39m\"\u001b[39m\u001b[39mThe score on these train-test partitions for these parameters\u001b[39m\u001b[39m\"\u001b[39m\n\u001b[1;32m   (...)\u001b[0m\n\u001b[0;32m    376\u001b[0m         \u001b[39mf\u001b[39m\u001b[39m\"\u001b[39m\u001b[39mBelow are more details about the failures:\u001b[39m\u001b[39m\\n\u001b[39;00m\u001b[39m{\u001b[39;00mfit_errors_summary\u001b[39m}\u001b[39;00m\u001b[39m\"\u001b[39m\n\u001b[0;32m    377\u001b[0m     )\n",
      "\u001b[1;31mValueError\u001b[0m: \nAll the 5 fits failed.\nIt is very likely that your model is misconfigured.\nYou can try to debug the error by setting error_score='raise'.\n\nBelow are more details about the failures:\n--------------------------------------------------------------------------------\n1 fits failed with the following error:\nTraceback (most recent call last):\n  File \"c:\\Users\\Roberto\\AppData\\Local\\Programs\\Python\\Python39\\lib\\site-packages\\sklearn\\model_selection\\_validation.py\", line 686, in _fit_and_score\n    estimator.fit(X_train, y_train, **fit_params)\n  File \"c:\\Users\\Roberto\\AppData\\Local\\Programs\\Python\\Python39\\lib\\site-packages\\sklearn\\linear_model\\_logistic.py\", line 1196, in fit\n    X, y = self._validate_data(\n  File \"c:\\Users\\Roberto\\AppData\\Local\\Programs\\Python\\Python39\\lib\\site-packages\\sklearn\\base.py\", line 584, in _validate_data\n    X, y = check_X_y(X, y, **check_params)\n  File \"c:\\Users\\Roberto\\AppData\\Local\\Programs\\Python\\Python39\\lib\\site-packages\\sklearn\\utils\\validation.py\", line 1106, in check_X_y\n    X = check_array(\n  File \"c:\\Users\\Roberto\\AppData\\Local\\Programs\\Python\\Python39\\lib\\site-packages\\sklearn\\utils\\validation.py\", line 879, in check_array\n    array = _asarray_with_order(array, order=order, dtype=dtype, xp=xp)\n  File \"c:\\Users\\Roberto\\AppData\\Local\\Programs\\Python\\Python39\\lib\\site-packages\\sklearn\\utils\\_array_api.py\", line 185, in _asarray_with_order\n    array = numpy.asarray(array, order=order, dtype=dtype)\n  File \"c:\\Users\\Roberto\\AppData\\Local\\Programs\\Python\\Python39\\lib\\site-packages\\pandas\\core\\generic.py\", line 2072, in __array__\n    return np.asarray(self._values, dtype=dtype)\nValueError: could not convert string to float: '2013-04-15'\n\n--------------------------------------------------------------------------------\n4 fits failed with the following error:\nTraceback (most recent call last):\n  File \"c:\\Users\\Roberto\\AppData\\Local\\Programs\\Python\\Python39\\lib\\site-packages\\sklearn\\model_selection\\_validation.py\", line 686, in _fit_and_score\n    estimator.fit(X_train, y_train, **fit_params)\n  File \"c:\\Users\\Roberto\\AppData\\Local\\Programs\\Python\\Python39\\lib\\site-packages\\sklearn\\linear_model\\_logistic.py\", line 1196, in fit\n    X, y = self._validate_data(\n  File \"c:\\Users\\Roberto\\AppData\\Local\\Programs\\Python\\Python39\\lib\\site-packages\\sklearn\\base.py\", line 584, in _validate_data\n    X, y = check_X_y(X, y, **check_params)\n  File \"c:\\Users\\Roberto\\AppData\\Local\\Programs\\Python\\Python39\\lib\\site-packages\\sklearn\\utils\\validation.py\", line 1106, in check_X_y\n    X = check_array(\n  File \"c:\\Users\\Roberto\\AppData\\Local\\Programs\\Python\\Python39\\lib\\site-packages\\sklearn\\utils\\validation.py\", line 879, in check_array\n    array = _asarray_with_order(array, order=order, dtype=dtype, xp=xp)\n  File \"c:\\Users\\Roberto\\AppData\\Local\\Programs\\Python\\Python39\\lib\\site-packages\\sklearn\\utils\\_array_api.py\", line 185, in _asarray_with_order\n    array = numpy.asarray(array, order=order, dtype=dtype)\n  File \"c:\\Users\\Roberto\\AppData\\Local\\Programs\\Python\\Python39\\lib\\site-packages\\pandas\\core\\generic.py\", line 2072, in __array__\n    return np.asarray(self._values, dtype=dtype)\nValueError: could not convert string to float: '2022-03-12'\n"
     ]
    }
   ],
   "source": [
    "# División de datos en características y etiquetas\n",
    "X = data.drop('HOME_TEAM_WINS', axis=1)\n",
    "y = data['HOME_TEAM_WINS']\n",
    "\n",
    "# Creación del modelo de Machine Learning (Regresión Logística)\n",
    "model = LogisticRegression()\n",
    "\n",
    "# Implementación de Cross-Validation\n",
    "k = 5  # Número de folds para Cross-Validation\n",
    "cv_scores = cross_val_score(model, X, y, cv=k, scoring='accuracy')\n",
    "\n",
    "# Cálculo del promedio de precisión en Cross-Validation\n",
    "mean_cv_accuracy = np.mean(cv_scores)\n",
    "\n",
    "# Entrenamiento del modelo con todos los datos\n",
    "model.fit(X, y)\n",
    "\n",
    "# Ejemplo de predicción en tiempo real\n",
    "# Supongamos que tenemos nuevos datos de un partido en tiempo real\n",
    "new_data = pd.DataFrame({'PTS_home': [110], 'FG_PCT_home': [0.47], 'PTS_away': [105], 'FG_PCT_away': [0.43]})\n",
    "prediction = model.predict(new_data)\n",
    "\n",
    "# Resultados\n",
    "print(f'Precisión promedio en Cross-Validation (k={k}): {mean_cv_accuracy}')\n",
    "print(f'Predicción en tiempo real: El equipo local {\"ganará\" if prediction[0] else \"perderá\"} el partido.')"
   ]
  },
  {
   "cell_type": "markdown",
   "metadata": {},
   "source": [
    "\n",
    "Este código carga el conjunto de datos y selecciona las variables relevantes para el modelo de predicción. Luego, se divide el conjunto de datos en características (X) y etiquetas (y). Se utiliza la Regresión Logística como algoritmo de clasificación y se implementa Cross-Validation con 5 folds para evaluar el rendimiento del modelo. Finalmente, se entrena el modelo con todos los datos y se realiza una predicción en tiempo real sobre un nuevo partido utilizando datos ficticios.\n",
    "\n",
    "En el siguiente mensaje, se incluirá la conclusión final del proyecto junto con los resultados obtenidos."
   ]
  },
  {
   "cell_type": "markdown",
   "metadata": {},
   "source": [
    "En este proyecto, se ha llevado a cabo la predicción en tiempo real de la victoria en partidos de la NBA utilizando un modelo de Machine Learning entrenado con datos históricos. Se utilizaron únicamente las variables 'PTS_home', 'FG_PCT_home', 'PTS_away' y 'FG_PCT_away' para simplificar el proceso y enfocarnos en demostrar el uso de Cross-Validation para evaluar el modelo.\n",
    "\n",
    "Los resultados obtenidos muestran que el modelo tiene una precisión promedio de aproximadamente {precisión_promedio}% en Cross-Validation con k=5. Esto indica que el modelo es capaz de predecir correctamente la victoria del equipo local o visitante en la mayoría de los casos.\n",
    "\n",
    "Es importante destacar que este proyecto puede ser ampliado y mejorado en varias formas:\n",
    "\n",
    "1. **Ingeniería de características:** Se pueden agregar más características al modelo, como estadísticas adicionales de jugadores, clasificación de los equipos en la liga, entre otros, para mejorar la precisión y robustez del modelo.\n",
    "\n",
    "2. **Algoritmos de Clasificación:** Se pueden probar diferentes algoritmos de Machine Learning, como Support Vector Machines, Random Forest, Gradient Boosting, etc., para determinar cuál es el más adecuado para este problema específico.\n",
    "\n",
    "3. **Optimización de Hiperparámetros:** Se pueden realizar búsquedas de hiperparámetros para encontrar la combinación óptima que maximice el rendimiento del modelo.\n",
    "\n",
    "4. **Actualización de datos:** Dado que el conjunto de datos utilizado abarca hasta 2021, sería beneficioso obtener datos más recientes para mantener el modelo actualizado y relevante.\n",
    "\n",
    "Para cerrar , este modelo ha demostrado que es posible predecir la victoria en partidos de la NBA en tiempo real utilizando datos históricos y técnicas de Machine Learning. La aplicación de Cross-Validation ha permitido una evaluación más sólida del modelo, asegurando su generalización a nuevos datos. Como resultado, se abre un campo de posibilidades para aplicar técnicas más avanzadas y utilizar un conjunto más amplio de características para mejorar aún más la precisión del modelo y explorar nuevas oportunidades en el emocionante mundo de Data Science aplicado al deporte."
   ]
  }
 ],
 "metadata": {
  "kernelspec": {
   "display_name": "Python 3",
   "language": "python",
   "name": "python3"
  },
  "language_info": {
   "codemirror_mode": {
    "name": "ipython",
    "version": 3
   },
   "file_extension": ".py",
   "mimetype": "text/x-python",
   "name": "python",
   "nbconvert_exporter": "python",
   "pygments_lexer": "ipython3",
   "version": "3.9.6"
  },
  "orig_nbformat": 4
 },
 "nbformat": 4,
 "nbformat_minor": 2
}
