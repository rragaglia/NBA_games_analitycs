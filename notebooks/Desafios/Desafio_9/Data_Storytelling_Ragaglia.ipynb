{
 "cells": [
  {
   "attachments": {},
   "cell_type": "markdown",
   "metadata": {},
   "source": [
    "# Introduccion a Storytelling\n",
    "\n",
    "¿Porque nos debe interesar esta parte del desafio como cientificos de datos? ¿Hay alguna razon para considerar que la manera de dirigirse al espectador , cambiara su manera de decidir? ¿O es todo parte de un relleno sin valor que solo entretiene al escucha?\n",
    "\n",
    "Podria decirse que no hay manera de probarlo, pero los datos anuncian que **el 3%-7% de los proyectos son financiados por angel investors , y es por ofrecer una orientacion al proyecto a realizar**\n",
    "\n",
    "Si hablamos del StoryTelling , el storytelling es como contar una historia interesante para atrapar a la gente y transmitirles un mensaje. Es como cuando te cuentan una historia emocionante o divertida que te hace sentir cosas y te mantiene enganchado.\n",
    "El storytelling se usa mucho en publicidad. Por ejemplo, cuando se ve un anuncio de televisión que cuenta una historia conmovedora sobre cómo un producto cambió la vida de alguien, eso es storytelling. Quieren que te sientas emocionalmente involucrado para que compres su producto.\n",
    "\n",
    "En resumen, el storytelling es como contar una historia interesante para captar la atención"
   ]
  },
  {
   "attachments": {},
   "cell_type": "markdown",
   "metadata": {},
   "source": [
    "# StoryTelling: NBA games\n",
    "\n"
   ]
  },
  {
   "attachments": {},
   "cell_type": "markdown",
   "metadata": {},
   "source": [
    "En este fascinante relato, nos embarcamos en un viaje de descubrimiento, donde la ciencia de datos se convierte en nuestra brújula hacia el éxito. Nuestro objetivo es revolucionar el enfoque comercial de la empresa, mejorar las cuotas y maximizar ganancias en el competitivo mundo de las apuestas deportivas.\n",
    "\n",
    "Nos enfrentamos a desafíos económicos y a la necesidad de adaptarnos a los cambios del mercado, pero nuestro cliente ha planteado una solución innovadora. Reconocemos que el conocimiento y la ventaja competitiva son invaluables en este nuevo escenario, y es por eso que nos sumergimos en el océano de datos, buscando desentrañar sus secretos ocultos.\n",
    "Nuestro enfoque se basa en la predicción precisa de los resultados de los partidos, utilizando sistemas automatizados de decisión y clasificación. Con cada detalle que analizamos, nos acercamos a la capacidad de predecir los números con una precisión sin precedentes. Esto nos proporcionará una ventaja competitiva en un mercado sediento de emociones y riesgos controlados.\n",
    "\n",
    "Nuestro punto de partida es el análisis exhaustivo de los datos de la NBA. Cada partido disputado se convierte en un tesoro de información valiosa. Examinamos minuciosamente cada estadística, desde el porcentaje de tiros de campo hasta la influencia de la localía. Buscamos los patrones ocultos que nos revelen las variables clave para predecir los resultados con mayor precisión.\n",
    "\n",
    "Es algo muy comun pensar que algunos tienen ventajas , y esto sucede muy seguido .. Exacto, se suele pensar que los que juegan de local presentan ventaja (¿o si porque casi siempre ganan?) . Por eso necesario decir si influye en el rendimiento de los equipos de la NBA. Si nuestros análisis revelan que jugar en casa es un factor determinante para el éxito, tendremos un conocimiento valioso que nos permitirá afinar nuestras predicciones y obtener una ventaja competitiva única en el mercado.\n",
    "\n",
    "Este proyecto no solo se trata de mejorar las cuotas, sino también de optimizar la estrategia empresarial. Al delegar tareas repetitivas a nuestro equipo automatizado, liberamos su talento para actividades más estratégicas y creativas. Cada hora que ahorramos en procesos tediosos nos acerca un paso más hacia la excelencia operativa y la maximización de las ganancias.\n",
    "\n",
    "En resumen, este relato nos lleva por un emocionante viaje en busca de la perfección en las cuotas y la optimización de la estrategia empresarial en el mundo de las apuestas deportivas. Con la ciencia de datos como nuestra aliada, nos sumergimos en el océano de datos, desentrañando sus secretos ocultos y aprovechando el conocimiento para obtener una ventaja competitiva sin igual. En este desafío, nos acercamos cada vez más a la excelencia, a la vez que maximizamos las ganancias y aseguramos el éxito en el competitivo mercado de las apuestas."
   ]
  }
 ],
 "metadata": {
  "language_info": {
   "name": "python"
  },
  "orig_nbformat": 4
 },
 "nbformat": 4,
 "nbformat_minor": 2
}
