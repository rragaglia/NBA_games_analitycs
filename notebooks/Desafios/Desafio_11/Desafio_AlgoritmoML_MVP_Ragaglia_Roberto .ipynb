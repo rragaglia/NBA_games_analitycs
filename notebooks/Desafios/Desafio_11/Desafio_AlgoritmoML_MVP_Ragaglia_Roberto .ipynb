{
 "cells": [
  {
   "attachments": {},
   "cell_type": "markdown",
   "id": "e25ee52d",
   "metadata": {},
   "source": [
    "# Abstract \n",
    "\n",
    "La posibilidad que brindan los sistemas automatizados de decision y clasificacion son sobresalientes al producir mejoras de producto y reducir costos o aumentar ganacias, de manera sistematica y eficaz. Muchas empresas relacionadas al juego y apuestas utilizan esto para predecir numeros ante la gran cantidad de datos que se nos brinda dados en el dataset. Asi mismo , el cliente propone una solucion practica ante las circunstacias economicas que atraviesa.\n",
    "\n",
    "En base a esta informacion , se puede hacer una investigacion y resolver las practicas beneficiosas de los jugadores y del equipo en cada uno de los juegos, es decir , es posible hacer preguntas y responderlas para obtener nuevos conocimientos sobre los equipos, los jugadores y la competencia en sí. Por ejemplo, se puede analizar la tendencia de los equipos en casa y fuera de casa, las estadísticas de los jugadores en diferentes momentos del partido, o el porcentaje de victorias y derrotas de los equipos.\n",
    "\n",
    "Este proyecto se basara en utilizar los datos disponibles para encontrar las diferencias y probrabilidades en cada partido dado durante los años jugados por la NBA. El objetivo se centrara en poder adquirir una variable que determine un numero en el cual se basara la cuota cobrada por el sistema de apuestas. Ademas , este analisis proovera al cliente con el gran beneficio del conocimiento y la ventaja por sobre la competencia , o hacia los mismos usuarios de la plataforma.\n",
    "\n",
    "Asi, lo visto durante un analisis exploratorio de los datos y las caracteristicas del conjunto , se plantearan las primeras hipotesis para luego establecer un modelo predictivo de los datos de interes. Luego de un resultado final , se podra verificar el uso de las herramientas y las capacidades un sistema de ML."
   ]
  },
  {
   "cell_type": "markdown",
   "id": "d3a542c6",
   "metadata": {},
   "source": [
    "# Entrenando un algoritmo de Machine Learning (Segunda parte)"
   ]
  },
  {
   "attachments": {},
   "cell_type": "markdown",
   "id": "99d5f91a",
   "metadata": {},
   "source": [
    "## Feature Selection: Análisis de Componentes Principales (PCA)"
   ]
  },
  {
   "attachments": {},
   "cell_type": "markdown",
   "id": "19527e21",
   "metadata": {},
   "source": [
    "El método de Análisis de Componentes Principales (PCA, por sus siglas en inglés) es una técnica comúnmente utilizada para reducir la dimensionalidad de los datos mediante la identificación de las variables que explican la mayor cantidad de variabilidad en el conjunto de datos. En el caso del dataset de la NBA, que contiene información sobre múltiples variables estadísticas de los partidos, puede ser útil aplicar PCA para reducir la dimensión del conjunto de datos y facilitar el análisis y la visualización de los patrones de datos. Al utilizar PCA, se pueden identificar las variables más importantes para explicar la variabilidad en los datos y reducir la complejidad del modelo, lo que puede llevar a una mayor eficiencia computacional y una mejor interpretación de los resultados. Además, el PCA puede ser una herramienta útil para la detección de patrones y relaciones no evidentes en los datos."
   ]
  },
  {
   "cell_type": "code",
   "execution_count": 36,
   "id": "1be4f152",
   "metadata": {},
   "outputs": [
    {
     "name": "stdout",
     "output_type": "stream",
     "text": [
      "Index(['GAME_DATE_EST', 'GAME_ID', 'GAME_STATUS_TEXT', 'SEASON',\n",
      "       'TEAM_ID_home', 'PTS_home', 'FG_PCT_home', 'FT_PCT_home',\n",
      "       'FG3_PCT_home', 'AST_home', 'REB_home', 'TEAM_ID_away', 'PTS_away',\n",
      "       'FG_PCT_away', 'FT_PCT_away', 'FG3_PCT_away', 'AST_away', 'REB_away',\n",
      "       'HOME_TEAM_WINS', 'PTS_diff', 'Location'],\n",
      "      dtype='object')\n"
     ]
    }
   ],
   "source": [
    "print(df.columns)"
   ]
  },
  {
   "cell_type": "code",
   "execution_count": 37,
   "id": "68e278d9",
   "metadata": {},
   "outputs": [
    {
     "name": "stdout",
     "output_type": "stream",
     "text": [
      "Componente 1:\n",
      "PTS_home: 0.4246984793777951\n",
      "PTS_away: 0.4141079409609243\n",
      "FG_PCT_home: 0.3602342221084838\n",
      "FG_PCT_away: 0.35176025455925924\n",
      "AST_home: 0.32386132738008955\n",
      "AST_away: 0.31527616659014773\n",
      "FG3_PCT_home: 0.25301384863234766\n",
      "FG3_PCT_away: 0.24194000267521384\n",
      "FT_PCT_away: 0.09356816730913646\n",
      "FT_PCT_home: 0.09152046239870117\n",
      "REB_away: -0.15627545638566548\n",
      "REB_home: -0.1620266492135642\n",
      "Componente 2:\n",
      "FG_PCT_home: 0.390610986059039\n",
      "AST_home: 0.32997523917627747\n",
      "FG3_PCT_home: 0.32043562773336015\n",
      "PTS_home: 0.2847529580663803\n",
      "REB_home: 0.2204403545835971\n",
      "FT_PCT_home: 0.021750055765112002\n",
      "FT_PCT_away: -0.052086307827379955\n",
      "REB_away: -0.21876209728224433\n",
      "PTS_away: -0.31023260667250996\n",
      "FG3_PCT_away: -0.3123170819682152\n",
      "AST_away: -0.3203112734115566\n",
      "FG_PCT_away: -0.39843916112812383\n"
     ]
    }
   ],
   "source": [
    "from sklearn.decomposition import PCA\n",
    "\n",
    "# Ignoramos la variable Target ('HOME_TEAM_WINS')y las variables que son de referencia a los equipos para que no estropee la estadistica del PCA\n",
    "# Seleccionamos las columnas relevantes\n",
    "df_features = df[['PTS_home', 'FG_PCT_home','FT_PCT_home', 'FG3_PCT_home', 'AST_home', 'REB_home','PTS_away', 'FG_PCT_away', 'FT_PCT_away', 'FG3_PCT_away', 'AST_away','REB_away']]\n",
    "# Normalizamos los datos\n",
    "df_features_normalized = (df_features - df_features.mean()) / df_features.std() \n",
    "# Creamos PCA con dos componentes principales\n",
    "pca_selector = PCA(n_components=2)\n",
    "# Ajustamos\n",
    "pca = pca_selector.fit(df_features_normalized)\n",
    "# Obtenemos las componentes principales\n",
    "components = pca.components_\n",
    "\n",
    "feature_names = df_features.columns\n",
    "\n",
    "# Iterar sobre las componentes\n",
    "for i, component in enumerate(components):\n",
    "    # Ordenar los índices de los pesos de mayor a menor\n",
    "    sorted_indices = np.argsort(-component)\n",
    "    \n",
    "    # Mostrar el nombre de la componente\n",
    "    print(f\"Componente {i+1}:\")\n",
    "    \n",
    "    # Iterar sobre los índices ordenados y mostrar los nombres de las variables y sus pesos\n",
    "    for j in sorted_indices:\n",
    "        print(f\"{feature_names[j]}: {component[j]}\") "
   ]
  },
  {
   "attachments": {},
   "cell_type": "markdown",
   "id": "6ba5b391",
   "metadata": {},
   "source": [
    "El primer vector indica que la variable con mas peso de la componente 1 es PTS_home, seguida por PTS_away y FG_PCT_home.\n",
    "El segundo vector indica que la variable con mas peso de la componente 2 es FG_PCT_home, seguida por FG_PCT_away y AST_home.\n",
    "\n",
    "Asi, podemos establecer que las mejores variables para el entrenamiento del modelo son **\"PTS_home\" \"AST_home\" \"FG_PCT_away\" \"PTS_away\" \"FG_PCT_home\"** , por su variabilidad y correlacion"
   ]
  },
  {
   "attachments": {},
   "cell_type": "markdown",
   "id": "48ce980d",
   "metadata": {},
   "source": [
    "## Feature Selection: Recursive Feature Elimination"
   ]
  },
  {
   "attachments": {},
   "cell_type": "markdown",
   "id": "b57c6610",
   "metadata": {},
   "source": [
    "La eliminación recursiva de características (Recursive Feature Elimination o RFE) es un método utilizado en aprendizaje automático para seleccionar las características (o variables) más importantes en un conjunto de datos.\n",
    "El proceso comienza entrenando un modelo con todas las características disponibles, luego se evalúa la importancia de cada una de las características. En función de estas evaluaciones, se eliminan las características menos importantes y se vuelve a entrenar el modelo con el conjunto reducido de características.\n",
    "Este proceso se repite iterativamente, eliminando las características menos importantes en cada iteración hasta que se alcanza el número deseado de características o hasta que no se pueden eliminar más características sin afectar significativamente el rendimiento del modelo."
   ]
  },
  {
   "cell_type": "code",
   "execution_count": 38,
   "id": "8516cc9d",
   "metadata": {},
   "outputs": [
    {
     "name": "stdout",
     "output_type": "stream",
     "text": [
      "['PTS_home' 'FG_PCT_home' 'FT_PCT_home' 'FG3_PCT_home' 'AST_home'\n",
      " 'REB_home' 'PTS_away' 'FG_PCT_away' 'FT_PCT_away' 'FG3_PCT_away'\n",
      " 'AST_away' 'REB_away']\n",
      "[ True  True False False  True False  True  True False False  True False]\n"
     ]
    }
   ],
   "source": [
    "from  sklearn.feature_selection import RFE\n",
    "from sklearn.linear_model import LinearRegression\n",
    "\n",
    "# Ignoramos la variable Target ('HOME_TEAM_WINS')y las variables que son de referencia a los equipos para que no estropee la estadistica del PCA\n",
    "# Seleccionamos las columnas relevantes\n",
    "df_features = df[['PTS_home', 'FG_PCT_home','FT_PCT_home', 'FG3_PCT_home', 'AST_home', 'REB_home','PTS_away', 'FG_PCT_away', 'FT_PCT_away', 'FG3_PCT_away', 'AST_away','REB_away']]\n",
    "# Normalizamos los datos\n",
    "df_features_normalized = (df_features - df_features.mean()) / df_features.std() \n",
    "# Normalizamos los datos de la variable target\n",
    "target_normalized = (df['HOME_TEAM_WINS'] - df['HOME_TEAM_WINS'].mean()) / df['HOME_TEAM_WINS'].std()\n",
    "# Denominamos las variables para el entrenamiento y el test\n",
    "X = df_features_normalized\n",
    "y = target_normalized\n",
    "# Se le asigna un estimador como parametro al modelo\n",
    "estimator = LinearRegression()\n",
    "# Se le proporciona parametros al modelo\n",
    "selector_rfe = RFE(estimator, n_features_to_select=None)\n",
    "# Se entrena el modelo y se almacena el \n",
    "rfe = selector_rfe.fit(X, y)\n",
    "# Se obtienen los indices de las variables relevantes\n",
    "print(selector_rfe.feature_names_in_)\n",
    "print(selector_rfe.support_)"
   ]
  },
  {
   "attachments": {},
   "cell_type": "markdown",
   "id": "c809e39d",
   "metadata": {},
   "source": [
    "A diferencia de otros algoritmos , al usar el RFE sera necesaria la iteracion para ir reduciendo la dimension del dataset hasta alcanzar la cantidad de variables de interes, en este caso se hara solo una iteracion nueva:"
   ]
  },
  {
   "cell_type": "code",
   "execution_count": 39,
   "id": "1d4dcefe",
   "metadata": {},
   "outputs": [
    {
     "data": {
      "text/plain": [
       "array(['PTS_home', 'FG_PCT_home', 'AST_home', 'PTS_away', 'FG_PCT_away',\n",
       "       'AST_away'], dtype=object)"
      ]
     },
     "execution_count": 39,
     "metadata": {},
     "output_type": "execute_result"
    }
   ],
   "source": [
    "# Se convierte el atributo feature_names_in_ en un array NumPy\n",
    "filtered_features_array = np.array(selector_rfe.feature_names_in_)\n",
    "# Se filtran las características relevantes utilizando el atributo support_\n",
    "selected_features_rfe= filtered_features_array[selector_rfe.support_]\n",
    "selected_features_rfe"
   ]
  },
  {
   "cell_type": "code",
   "execution_count": 40,
   "id": "339cc057",
   "metadata": {},
   "outputs": [
    {
     "data": {
      "text/plain": [
       "['PTS_home', 'AST_home', 'PTS_away']"
      ]
     },
     "execution_count": 40,
     "metadata": {},
     "output_type": "execute_result"
    }
   ],
   "source": [
    "# Se realiza una nueva iteracion con los datos de la iteracion anterior y se establecen como variable\n",
    "filtered_features = selected_features_rfe.tolist()\n",
    "X = df_features_normalized[filtered_features]\n",
    "y = target_normalized\n",
    "# Se le asigna un estimador como parametro al modelo\n",
    "estimator = LinearRegression()\n",
    "# Se le proporciona parametros al modelo\n",
    "selector_rfe = RFE(estimator, n_features_to_select=None)\n",
    "# Se entrena el modelo y se almacena el \n",
    "rfe = selector_rfe.fit(X, y)\n",
    "# Se convierte el atributo feature_names_in_ en un array NumPy\n",
    "filtered_features_array = np.array(selector_rfe.feature_names_in_)\n",
    "# Se filtran las características relevantes utilizando el atributo support_\n",
    "selected_features_rfe= filtered_features_array[selector_rfe.support_]\n",
    "selected_features_rfe = selected_features_rfe.tolist()\n",
    "selected_features_rfe"
   ]
  },
  {
   "attachments": {},
   "cell_type": "markdown",
   "id": "9ee25282",
   "metadata": {},
   "source": [
    "Asi se puede concluir que el algoritmo de *\"feature selection\"* considera como caracteristicas pricipales a **'FG_PCT_home', 'PTS_away', 'FG_PCT_away'** , estableciendo una distinta importancia a las caracteristicas. Sin embargo , poseer baja cantidad de variables puede llevar a predicciones no fiables o de baja precision por la baja variabilidad de los datos , a pesar que en este dataset se poseen un bajo numero de datos y no se pueda verificar este problema."
   ]
  },
  {
   "attachments": {},
   "cell_type": "markdown",
   "id": "0262c0d8",
   "metadata": {},
   "source": [
    "# Feature selection: SelectKBest"
   ]
  },
  {
   "attachments": {},
   "cell_type": "markdown",
   "id": "ae62faab",
   "metadata": {},
   "source": [
    "El método SelectKBest es una técnica de selección de características que se utiliza para seleccionar las k características más importantes de un conjunto de datos utilizando un método de puntuación estadística. Es una técnica de selección de características univariante, lo que significa que cada característica se evalúa de forma independiente de las demás características.\n",
    "\n",
    "SelectKBest utiliza una variedad de pruebas estadísticas, como ANOVA F-test, prueba chi-cuadrado, prueba mutual information, entre otras, para evaluar la relación entre cada característica y la variable objetivo. Luego, selecciona las k características con los puntajes más altos.\n",
    "\n",
    "Se utilizara la prueba \"ANOVA F-test\" para hacer la seleccion de variables:"
   ]
  },
  {
   "cell_type": "code",
   "execution_count": 41,
   "id": "62893eee",
   "metadata": {},
   "outputs": [
    {
     "name": "stdout",
     "output_type": "stream",
     "text": [
      "['PTS_home' 'FG_PCT_home' 'FT_PCT_home' 'FG3_PCT_home' 'AST_home'\n",
      " 'REB_home' 'PTS_away' 'FG_PCT_away' 'FT_PCT_away' 'FG3_PCT_away'\n",
      " 'AST_away' 'REB_away']\n",
      "[ True  True False False False False  True  True False False False False]\n"
     ]
    }
   ],
   "source": [
    "from sklearn.feature_selection import SelectKBest, f_classif\n",
    "\n",
    "# Ignoramos la variable Target ('HOME_TEAM_WINS')y las variables que son de referencia a los equipos para que no estropee la estadistica del PCA\n",
    "# Seleccionamos las columnas relevantes\n",
    "df_features = df[['PTS_home', 'FG_PCT_home','FT_PCT_home', 'FG3_PCT_home', 'AST_home', 'REB_home','PTS_away', 'FG_PCT_away', 'FT_PCT_away', 'FG3_PCT_away', 'AST_away','REB_away']]\n",
    "# Normalizamos los datos\n",
    "df_features_normalized = (df_features - df_features.mean()) / df_features.std() \n",
    "# Normalizamos los datos de la variable target\n",
    "target_normalized = (df['HOME_TEAM_WINS'] - df['HOME_TEAM_WINS'].mean()) / df['HOME_TEAM_WINS'].std()\n",
    "# Denominamos las variables para el entrenamiento y el test\n",
    "X = df_features_normalized\n",
    "y = target_normalized\n",
    "\n",
    "# Seleccionamos las características más importantes utilizando f_classif\n",
    "selector_skb = SelectKBest(f_classif, k=4)\n",
    "skb = selector_skb.fit_transform(X, y)\n",
    "\n",
    "# Imprimimos las características seleccionadas\n",
    "print(selector_skb.feature_names_in_)\n",
    "print(selector_skb.get_support())"
   ]
  },
  {
   "cell_type": "code",
   "execution_count": 42,
   "id": "694f45f8",
   "metadata": {},
   "outputs": [
    {
     "data": {
      "text/plain": [
       "['PTS_home', 'FG_PCT_home', 'PTS_away', 'FG_PCT_away']"
      ]
     },
     "execution_count": 42,
     "metadata": {},
     "output_type": "execute_result"
    }
   ],
   "source": [
    "# Se convierte el atributo feature_names_in_ en un array NumPy\n",
    "filtered_features_array_skb = np.array(selector_skb.feature_names_in_)\n",
    "# Se filtran las características relevantes utilizando el atributo support_\n",
    "selected_features_skb = filtered_features_array_skb[selector_skb.get_support()]\n",
    "selected_features_skb = selected_features_skb.tolist()\n",
    "selected_features_skb"
   ]
  },
  {
   "attachments": {},
   "cell_type": "markdown",
   "id": "4d1a090c",
   "metadata": {},
   "source": [
    "Al poner como objetivo 4 caracteristicas de interes, se puede concluir que el algoritmo de *\"feature selection\"* considera como caracteristicas pricipales a **'PTS_home', 'FG_PCT_home', 'PTS_away', 'FG_PCT_away'** , que termina similar a la seleccion con el RFE"
   ]
  },
  {
   "attachments": {},
   "cell_type": "markdown",
   "id": "80d9a81d",
   "metadata": {},
   "source": [
    "# Entrenamiento de Modelo (LogisticRegression basado en PCA)"
   ]
  },
  {
   "attachments": {},
   "cell_type": "markdown",
   "id": "31d23068",
   "metadata": {},
   "source": [
    "Se utilizará un algoritmo de regresión lineal para entrenar un modelo utilizando los distintos metodos de feature selectionEl modelo se ajusta a los datos de entrenamiento y se utiliza para hacer predicciones sobre los datos de prueba. Se utiliza el coeficiente de determinación R2 para evaluar el rendimiento del modelo, que indica cuánta varianza en la variable objetivo es explicada por el modelo. Si el valor de R2 es cercano a 1, significa que el modelo se ajusta bien a los datos y es capaz de hacer buenas predicciones.\n",
    "**Para la ejecucion de esta parte del codigo sera necesaria la ejecucion previa de la reduccion de dimension del metodo PCA**"
   ]
  },
  {
   "cell_type": "code",
   "execution_count": 43,
   "id": "4e641cd4",
   "metadata": {},
   "outputs": [
    {
     "name": "stdout",
     "output_type": "stream",
     "text": [
      "Exactitud del modelo usando seleccion de PCA: 0.9840466926070038\n"
     ]
    }
   ],
   "source": [
    "from sklearn.linear_model import LogisticRegression\n",
    "from sklearn.model_selection import train_test_split\n",
    "\n",
    "# Se establecen las variables  de entrada \n",
    "X = df[['PTS_home', 'FG_PCT_home', 'PTS_away', 'FG_PCT_away','AST_home']]\n",
    "y = df['HOME_TEAM_WINS']\n",
    "# Se aplica PCA para reducir la dimensionalidad de los datos\n",
    "pca_c = PCA(n_components=2)\n",
    "# Se aplica el algoritmo de PCA al conjunto de datos\n",
    "X_pca = pca_c.fit_transform(X)\n",
    "pca = LogisticRegression()\n",
    "# Se dividen los datos para entrenar y testear el modelo\n",
    "X_train_pca, X_test_pca, y_train_pca, y_test_pca = train_test_split(X_pca, y, test_size=0.3, random_state=42)\n",
    "pca.fit(X_train_pca, y_train_pca)\n",
    "# Se evalua la exactitud del modelo\n",
    "score_pca = pca.score(X_test_pca, y_test_pca)\n",
    "y_pred_pca = pca.predict(X_test_pca)\n",
    "print(\"Exactitud del modelo usando seleccion de PCA:\", score_pca)"
   ]
  },
  {
   "cell_type": "code",
   "execution_count": 44,
   "id": "086233a1",
   "metadata": {},
   "outputs": [
    {
     "data": {
      "text/plain": [
       "array([[ -9.49438213,  -8.44016439],\n",
       "       [  8.36335215,   4.58250243],\n",
       "       [-17.25404451,  -8.85883308],\n",
       "       ...,\n",
       "       [  6.28112153,   2.05303995],\n",
       "       [  7.52699159,   1.38816997],\n",
       "       [ 14.34610284, -10.69812235]])"
      ]
     },
     "execution_count": 44,
     "metadata": {},
     "output_type": "execute_result"
    }
   ],
   "source": [
    "X_pca"
   ]
  },
  {
   "attachments": {},
   "cell_type": "markdown",
   "id": "4ba83d23",
   "metadata": {},
   "source": [
    "Nos da un valor alrededor de 1, significa que el modelo clasifica correctamente todas las instancias del conjunto de datos de prueba. Esto podría ser un indicador de que el modelo está sobreajustando (overfitting) el conjunto de datos de entrenamiento, es decir, el modelo se ajusta demasiado bien a los datos de entrenamiento y no generaliza bien para nuevos datos."
   ]
  },
  {
   "attachments": {},
   "cell_type": "markdown",
   "id": "8120f3c4",
   "metadata": {},
   "source": [
    "# Entrenamiento de Modelo (LogisticRegression basado en RFE)"
   ]
  },
  {
   "attachments": {},
   "cell_type": "markdown",
   "id": "3c8c9d68",
   "metadata": {},
   "source": [
    "**Para la ejecucion de esta parte del codigo sera necesaria la ejecucion previa de la reduccion de dimension del metodo RFE**"
   ]
  },
  {
   "cell_type": "code",
   "execution_count": 45,
   "id": "d1389c5a",
   "metadata": {},
   "outputs": [
    {
     "name": "stdout",
     "output_type": "stream",
     "text": [
      "Exactitud del modelo usando seleccion de RFE: 1.0\n"
     ]
    }
   ],
   "source": [
    "X = df[selected_features_rfe]\n",
    "Y = df['HOME_TEAM_WINS']\n",
    "# Se dividen los datos para entrenar y testear el modelo\n",
    "X_train_rfe, X_test_rfe, y_train_rfe, y_test_rfe = train_test_split(X, Y, test_size=0.3, random_state=42)\n",
    "# Se le proporciona parametros al modelo\n",
    "logreg_rfe = LogisticRegression()\n",
    "# Se entrena el modelo y se almacena el \n",
    "rfe = logreg_rfe.fit(X_train_rfe, y_train_rfe)\n",
    "score_rfe = rfe.score(X_test_rfe,y_test_rfe)\n",
    "y_pred_rfe = rfe.predict(X_test_rfe)\n",
    "print(\"Exactitud del modelo usando seleccion de RFE:\", score_rfe)"
   ]
  },
  {
   "attachments": {},
   "cell_type": "markdown",
   "id": "a60fe63b",
   "metadata": {},
   "source": [
    "# Entrenamiento de Modelo (LogisticRegression basado en SelectKBest)"
   ]
  },
  {
   "attachments": {},
   "cell_type": "markdown",
   "id": "09ffae9e",
   "metadata": {},
   "source": [
    "**Para la ejecucion de esta parte del codigo sera necesaria la ejecucion previa de la reduccion de dimension del metodo SelectKBest**"
   ]
  },
  {
   "cell_type": "code",
   "execution_count": 46,
   "id": "1f80a40f",
   "metadata": {},
   "outputs": [
    {
     "name": "stdout",
     "output_type": "stream",
     "text": [
      "Exactitud del modelo usando seleccion de SekectKBest: 1.0\n"
     ]
    }
   ],
   "source": [
    "X = df[selected_features_skb]\n",
    "Y = df['HOME_TEAM_WINS']\n",
    "# Se dividen los datos para entrenar y testear el modelo\n",
    "X_train_skb, X_test_skb, y_train_skb, y_test_skb = train_test_split(X, Y, test_size=0.3, random_state=42)\n",
    "logreg_skb = LogisticRegression()\n",
    "skb = logreg_skb.fit(X_train_skb, y_train_skb)\n",
    "score_skb = logreg_skb.score(X_test_skb, y_test_skb)\n",
    "y_pred_skb = skb.predict(X_test_skb)\n",
    "print(\"Exactitud del modelo usando seleccion de SekectKBest:\", score_skb)"
   ]
  },
  {
   "attachments": {},
   "cell_type": "markdown",
   "id": "e8774517",
   "metadata": {},
   "source": [
    "# Validación del modelo para los distintos feature selection\n",
    "\n",
    "## PCA\n",
    "\n",
    "En resumen , luego de completar los modelos y mostrar un puntaje de relacion entre la prediccion y los datos de validacion , se ve que:"
   ]
  },
  {
   "cell_type": "code",
   "execution_count": 47,
   "id": "b9a5c52b",
   "metadata": {},
   "outputs": [
    {
     "name": "stdout",
     "output_type": "stream",
     "text": [
      "PCA:\n",
      "Caracteristicas: ['PTS_home', 'FG_PCT_home', 'PTS_away', 'FG_PCT_away','AST_home']\n",
      "Exactitud (accuracy): 0.9840466926070038\n",
      "RFE:\n",
      "Caracteristicas: ['PTS_home', 'AST_home', 'PTS_away']\n",
      "Exactitud (accuracy): 1.0\n",
      "SelectKBest:\n",
      "Caracteristicas: ['PTS_home', 'FG_PCT_home', 'PTS_away', 'FG_PCT_away']\n",
      "Exactitud (accuracy): 1.0\n"
     ]
    }
   ],
   "source": [
    "#PCA\n",
    "print(\"PCA:\")\n",
    "print(\"Caracteristicas: ['PTS_home', 'FG_PCT_home', 'PTS_away', 'FG_PCT_away','AST_home']\")\n",
    "print(\"Exactitud (accuracy): \"+str(score_pca))\n",
    "#RFE\n",
    "print(\"RFE:\")\n",
    "print(\"Caracteristicas: \"+str(selected_features_rfe))\n",
    "print(\"Exactitud (accuracy): \"+str(score_rfe))\n",
    "#SelectKBest\n",
    "print(\"SelectKBest:\")\n",
    "print(\"Caracteristicas: \"+str(selected_features_skb))\n",
    "print(\"Exactitud (accuracy): \"+str(score_skb))"
   ]
  },
  {
   "attachments": {},
   "cell_type": "markdown",
   "id": "1ca6b26d",
   "metadata": {},
   "source": [
    "Para concluir la seccion de validacion de modelos , haremos una matriz de confusion que represente los FP que los modelos pueden tener"
   ]
  },
  {
   "cell_type": "code",
   "execution_count": 48,
   "id": "15b17ba6",
   "metadata": {},
   "outputs": [
    {
     "name": "stdout",
     "output_type": "stream",
     "text": [
      "PCA\n",
      "[[3049   59]\n",
      " [  64 4538]]\n",
      "RFE\n",
      "[[3108    0]\n",
      " [   0 4602]]\n",
      "SKB\n",
      "[[3108    0]\n",
      " [   0 4602]]\n"
     ]
    }
   ],
   "source": [
    "# Se realiza una matriz de confusión para el modelo de regresión logística\n",
    "from sklearn import metrics\n",
    "cm_pca = metrics.confusion_matrix(y_test_pca, y_pred_pca)\n",
    "print('PCA')\n",
    "print(cm_pca)\n",
    "\n",
    "cm_rfe = metrics.confusion_matrix(y_test_rfe, y_pred_rfe)\n",
    "print('RFE')\n",
    "print(cm_rfe)\n",
    "\n",
    "cm_skb = metrics.confusion_matrix(y_test_skb, y_pred_skb)\n",
    "print('SKB')\n",
    "print(cm_skb)"
   ]
  },
  {
   "attachments": {},
   "cell_type": "markdown",
   "id": "13844985",
   "metadata": {},
   "source": [
    "Todas las métricas de este modelo estan dando un valor casi de 1. esto podría ser una señal de que el modelo se está sobreajustando a los datos de entrenamiento y no está generalizando bien para nuevos datos. Esto significa que el modelo se está adaptando demasiado bien a los datos específicos de entrenamiento y está perdiendo la capacidad de generalizar para nuevos datos que no ha visto antes. Como resultado, es posible que el modelo no sea capaz de hacer predicciones precisas para nuevos datos y podría requerir ajustes para mejorar su capacidad de generalización. Por otro lado, también cabe la posibilidad de que el modelo esté sobreajustado porque la cantidad de datos es muy pequeña. \n",
    "\n",
    "Tambien se puede ver que la matriz de confusion demuestra valores de error (falsos) relativamente bajos , que puede asociarse a lo anteriormente explicado."
   ]
  },
  {
   "attachments": {},
   "cell_type": "markdown",
   "id": "a9bcb062",
   "metadata": {},
   "source": [
    "# Aplicacion del modelo entrenado a nuevas situaciones\n",
    "\n",
    "A partir de ahora podemos utilizar el modelo logistico entrenado para realizar predicciones de ganar siendo de local y dandole las variables necesarias para predecir. Cada modelo entrenado tendra una diferencia en la prediccion , ya que utilizan distintas variables y por lo tanto , basaran las desiciones segun las variables informadas.\n",
    "\n",
    "Para encontrar el caso (o los casos) mas adecuados , procederemos a armar un data frame con los datos que dan como resultado de los modelos para poder compararlos a final del proyecto y evaluar cual seria la mejor opcion de utilizar estos resultados. \n",
    "\n",
    "Asi , las variables utilizadas en el modelo realizado en base al PCA, serian:\n",
    "\n",
    "    'PTS_home'\n",
    "    'FG_PCT_home'\n",
    "    'PTS_away'\n",
    "    'FG_PCT_away'\n",
    "    'AST_home'\n",
    "\n",
    "En el caso del modelo de RFE , serian:\n",
    "\n",
    "    'PTS_home'\n",
    "    'AST_home'\n",
    "    'PTS_away'\n",
    "\n",
    "En el caso del modelo de SKB , serian:\n",
    "\n",
    "    'PTS_home'\n",
    "    'FG_PCT_home'\n",
    "    'PTS_away'\n",
    "    'FG_PCT_away'\n",
    "\n",
    "Se debe explicar , que estas variables son independientes al partido y no se pueden predecir simplemente. Es decir , que sera necesario visualizar parte del partido para conocer su resultado final.Una manera de aplicacion seria utilizarlo en el partido para conseguir datos en tiempo real"
   ]
  },
  {
   "cell_type": "code",
   "execution_count": 49,
   "id": "d81632c3",
   "metadata": {},
   "outputs": [
    {
     "name": "stdout",
     "output_type": "stream",
     "text": [
      "Gana Local\n",
      "    PTS_home  FG_PCT_home  PTS_away  FG_PCT_away  AST_home\n",
      "0          0     0.000000         0     0.000000         0\n",
      "1          2     0.000000         3     0.000000         0\n",
      "2          4     0.000000         5     0.000000         0\n",
      "3          6     0.000000         6     0.000000         0\n",
      "4          9     0.500000         7     0.000000         1\n",
      "5         12     0.750000         9     0.000000         3\n",
      "6         15     0.750000        12     0.000000         5\n",
      "7         18     0.875000        15     0.000000         6\n",
      "8         21     0.875000        16     0.000000         8\n",
      "9         21     0.437500        17     0.000000         8\n",
      "10        24     0.437500        20     0.000000        10\n",
      "11        27     0.718750        23     0.500000        12\n",
      "12        27     0.359375        26     0.500000        12\n",
      "13        30     0.679688        28     0.250000        14\n",
      "14        33     0.839844        29     0.125000        16\n",
      "15        36     0.839844        31     0.062500        17\n",
      "16        39     0.839844        34     0.062500        19\n",
      "17        41     0.419922        35     0.031250        19\n",
      "18        44     0.709961        38     0.515625        20\n",
      "19        47     0.709961        40     0.257812        21\n",
      "20        50     0.709961        43     0.257812        23\n",
      "21        50     0.354980        44     0.128906        23\n",
      "22        51     0.177490        46     0.064453        23\n",
      "23        53     0.088745        47     0.032227        23\n",
      "24        55     0.044373        50     0.516113        23\n",
      "25        55     0.022186        53     0.758057        23\n",
      "26        55     0.011093        55     0.379028        23\n",
      "27        58     0.505547        57     0.189514        24\n",
      "28        61     0.752773        59     0.094757        25\n",
      "29        64     0.876387        62     0.094757        26\n",
      "30        67     0.938193        63     0.047379        28\n",
      "31        70     0.938193        66     0.523689        30\n",
      "32        71     0.469097        67     0.261845        30\n",
      "33        74     0.734548        70     0.261845        32\n",
      "34        77     0.734548        73     0.630922        34\n",
      "35        80     0.734548        74     0.315461        36\n",
      "36        81     0.367274        77     0.315461        36\n",
      "37        83     0.183637        78     0.157731        36\n",
      "38        86     0.591819        81     0.578865        38\n",
      "39        89     0.591819        84     0.578865        40\n",
      "40        92     0.795909        86     0.289433        42\n",
      "41        95     0.897955        87     0.144716        44\n",
      "42        95     0.448977        90     0.144716        44\n",
      "43        95     0.224489        93     0.144716        44\n",
      "44        98     0.224489        96     0.144716        45\n",
      "45       101     0.224489        97     0.072358        47\n",
      "46       102     0.112244       100     0.536179        47\n",
      " \n",
      "Gana Visitante\n",
      "    PTS_home  FG_PCT_home  PTS_away  FG_PCT_away  AST_home\n",
      "0          0     0.000000         0     0.000000         0\n",
      "1          3     0.000000         2     0.000000         0\n",
      "2          5     0.000000         4     0.000000         0\n",
      "3          6     0.000000         6     0.000000         0\n",
      "4          7     0.000000         9     0.500000         1\n",
      "5          9     0.000000        12     0.750000         3\n",
      "6         12     0.000000        15     0.750000         5\n",
      "7         15     0.000000        18     0.875000         6\n",
      "8         16     0.000000        21     0.875000         8\n",
      "9         17     0.000000        21     0.437500         8\n",
      "10        20     0.000000        24     0.437500        10\n",
      "11        23     0.500000        27     0.718750        12\n",
      "12        26     0.500000        27     0.359375        12\n",
      "13        28     0.250000        30     0.679688        14\n",
      "14        29     0.125000        33     0.839844        16\n",
      "15        31     0.062500        36     0.839844        17\n",
      "16        34     0.062500        39     0.839844        19\n",
      "17        35     0.031250        41     0.419922        19\n",
      "18        38     0.515625        44     0.709961        20\n",
      "19        40     0.257812        47     0.709961        21\n",
      "20        43     0.257812        50     0.709961        23\n",
      "21        44     0.128906        50     0.354980        23\n",
      "22        46     0.064453        51     0.177490        23\n",
      "23        47     0.032227        53     0.088745        23\n",
      "24        50     0.516113        55     0.044373        23\n",
      "25        53     0.758057        55     0.022186        23\n",
      "26        55     0.379028        55     0.011093        23\n",
      "27        57     0.189514        58     0.505547        24\n",
      "28        59     0.094757        61     0.752773        25\n",
      "29        62     0.094757        64     0.876387        26\n",
      "30        63     0.047379        67     0.938193        28\n",
      "31        66     0.523689        70     0.938193        30\n",
      "32        67     0.261845        71     0.469097        30\n",
      "33        70     0.261845        74     0.734548        32\n",
      "34        73     0.630922        77     0.734548        34\n",
      "35        74     0.315461        80     0.734548        36\n",
      "36        77     0.315461        81     0.367274        36\n",
      "37        78     0.157731        83     0.183637        36\n",
      "38        81     0.578865        86     0.591819        38\n",
      "39        84     0.578865        89     0.591819        40\n",
      "40        86     0.289433        92     0.795909        42\n",
      "41        87     0.144716        95     0.897955        44\n",
      "42        90     0.144716        95     0.448977        44\n",
      "43        93     0.144716        95     0.224489        44\n",
      "44        96     0.144716        98     0.224489        45\n",
      "45        97     0.072358       101     0.224489        47\n",
      "46       100     0.536179       102     0.112244        47\n"
     ]
    }
   ],
   "source": [
    "#Creamos el dataframe que comparara los resultados de los modelos\n",
    "comparison_df=pd.DataFrame(columns=['Minutes','PCA_win','PCA_lose','RFE_win','RFE_lose','SKB_win','SKB_lose'])\n",
    "comparison_df['Minutes']=[6, 12, 18, 24, 30 , 36 , 42 , 48]\n",
    "#Cargando los datos de un partido de ejemplo en el que gana el local\n",
    "new_game_df_home=pd.read_csv('D:/Documents/GitHub/NBA_games_analitycs/notebooks/Borrador/Libro1.csv', sep=';')\n",
    "datos_partido_home_pca=new_game_df_home[['PTS_home', 'FG_PCT_home', 'PTS_away', 'FG_PCT_away','AST_home']]\n",
    "print('Gana Local\\n'+str(datos_partido_home_pca))\n",
    "print(' ')\n",
    "#Cargando los datos de un partido de ejemplo en el que gana el visitante\n",
    "new_game_df_away=pd.read_csv('D:/Documents/GitHub/NBA_games_analitycs/notebooks/Borrador/Libro2.csv', sep=';')\n",
    "datos_partido_away_pca=new_game_df_away[['PTS_home', 'FG_PCT_home', 'PTS_away', 'FG_PCT_away','AST_home']]\n",
    "print('Gana Visitante\\n'+str(datos_partido_away_pca))"
   ]
  },
  {
   "attachments": {},
   "cell_type": "markdown",
   "id": "992927c2",
   "metadata": {},
   "source": [
    "## PCA_win"
   ]
  },
  {
   "cell_type": "code",
   "execution_count": 50,
   "id": "aaeddd7c",
   "metadata": {},
   "outputs": [
    {
     "name": "stdout",
     "output_type": "stream",
     "text": [
      "Probabilidad de ganar el local a los 6 minutos: 100.0 %\n",
      "Probabilidad de ganar el local a los 12 minutos: 100.0 %\n",
      "Probabilidad de ganar el local a los 18 minutos: 100.0 %\n",
      "Probabilidad de ganar el local a los 24 minutos: 100.0 %\n",
      "Probabilidad de ganar el local a los 30 minutos: 86.21 %\n",
      "Probabilidad de ganar el local a los 36 minutos: 80.0 %\n",
      "Probabilidad de ganar el local a los 42 minutos: 82.93 %\n",
      "Probabilidad de ganar el local a los 48 minutos: 82.98 %\n"
     ]
    }
   ],
   "source": [
    "# Ejemplo de aplicacion en tiempo real de un partido\n",
    "# A los 6 min\n",
    "x_6 = datos_partido_home_pca.iloc[0:5]\n",
    "x_6_array = x_6.to_numpy()\n",
    "x_pca = pca_c.fit_transform(x_6_array)\n",
    "y_6_array = pca.predict(x_pca)\n",
    "y_6=round(y_6_array.mean()*100,2)\n",
    "print(f'Probabilidad de ganar el local a los 6 minutos: {y_6} %')\n",
    "\n",
    "# A los 12 min\n",
    "x_12 = datos_partido_home_pca.iloc[0:11]\n",
    "x_12_array = x_12.to_numpy()\n",
    "x_pca = pca_c.fit_transform(x_12_array)\n",
    "y_12_array = pca.predict(x_pca)\n",
    "y_12=round(y_6_array.mean()*100,2)\n",
    "print(f'Probabilidad de ganar el local a los 12 minutos: {y_12} %')\n",
    "\n",
    "# A los 18 min\n",
    "x_18 = datos_partido_home_pca.iloc[0:17]\n",
    "x_18_array = x_18.to_numpy()\n",
    "x_pca = pca_c.fit_transform(x_18_array)\n",
    "y_18_array = pca.predict(x_pca)\n",
    "y_18=round(y_18_array.mean()*100,2)\n",
    "print(f'Probabilidad de ganar el local a los 18 minutos: {y_18} %')\n",
    "\n",
    "# A los 24 min\n",
    "x_24 = datos_partido_home_pca.iloc[0:23]\n",
    "x_24_array = x_24.to_numpy()\n",
    "x_pca = pca_c.fit_transform(x_24_array)\n",
    "y_24_array = pca.predict(x_pca)\n",
    "y_24=round(y_24_array.mean()*100,2)\n",
    "print(f'Probabilidad de ganar el local a los 24 minutos: {y_24} %')\n",
    "\n",
    "# A los 30 min\n",
    "x_30 = datos_partido_home_pca.iloc[0:29]\n",
    "x_30_array = x_30.to_numpy()\n",
    "x_pca = pca_c.fit_transform(x_30_array)\n",
    "y_30_array = pca.predict(x_pca)\n",
    "y_30=round(y_30_array.mean()*100,2)\n",
    "print(f'Probabilidad de ganar el local a los 30 minutos: {y_30} %')\n",
    "\n",
    "# A los 36 min\n",
    "x_36 = datos_partido_home_pca.iloc[0:35]\n",
    "x_36_array = x_36.to_numpy()\n",
    "x_pca = pca_c.fit_transform(x_36_array)\n",
    "y_36_array = pca.predict(x_pca)\n",
    "y_36=round(y_36_array.mean()*100,2)\n",
    "print(f'Probabilidad de ganar el local a los 36 minutos: {y_36} %')\n",
    "\n",
    "# A los 42 min\n",
    "x_42 = datos_partido_home_pca.iloc[0:41]\n",
    "x_42_array = x_42.to_numpy()\n",
    "x_pca = pca_c.fit_transform(x_42_array)\n",
    "y_42_array = pca.predict(x_pca)\n",
    "y_42=round(y_42_array.mean()*100,2)\n",
    "print(f'Probabilidad de ganar el local a los 42 minutos: {y_42} %')\n",
    "\n",
    "# A los 48 min\n",
    "x_48 = datos_partido_home_pca.iloc[0:47]\n",
    "x_48_array = x_48.to_numpy()\n",
    "x_pca = pca_c.fit_transform(x_48_array)\n",
    "y_48_array = pca.predict(x_pca)\n",
    "y_48=round(y_48_array.mean()*100,2)\n",
    "print(f'Probabilidad de ganar el local a los 48 minutos: {y_48} %')\n",
    "\n",
    "comparison_df['PCA_win']=[y_6,y_12,y_18,y_24,y_30,y_36,y_42,y_48]"
   ]
  },
  {
   "attachments": {},
   "cell_type": "markdown",
   "id": "e78de8ca",
   "metadata": {},
   "source": [
    "## PCA_lose"
   ]
  },
  {
   "cell_type": "code",
   "execution_count": 51,
   "id": "1d519a9f",
   "metadata": {},
   "outputs": [
    {
     "name": "stdout",
     "output_type": "stream",
     "text": [
      "Probabilidad de ganar el local a los 6 minutos: 100.0 %\n",
      "Probabilidad de ganar el local a los 12 minutos: 100.0 %\n",
      "Probabilidad de ganar el local a los 18 minutos: 100.0 %\n",
      "Probabilidad de ganar el local a los 24 minutos: 100.0 %\n",
      "Probabilidad de ganar el local a los 30 minutos: 86.21 %\n",
      "Probabilidad de ganar el local a los 36 minutos: 80.0 %\n",
      "Probabilidad de ganar el local a los 42 minutos: 82.93 %\n",
      "Probabilidad de ganar el local a los 48 minutos: 82.98 %\n"
     ]
    }
   ],
   "source": [
    "# Ejemplo de aplicacion en tiempo real de un partido\n",
    "# A los 6 min\n",
    "x_6 = datos_partido_away_pca.iloc[0:5]\n",
    "x_6_array = x_6.to_numpy()\n",
    "x_pca = pca_c.fit_transform(x_6_array)\n",
    "y_6_array = pca.predict(x_pca)\n",
    "y_6=round(y_6_array.mean()*100,2)\n",
    "print(f'Probabilidad de ganar el local a los 6 minutos: {y_6} %')\n",
    "\n",
    "# A los 12 min\n",
    "x_12 = datos_partido_away_pca.iloc[0:11]\n",
    "x_12_array = x_12.to_numpy()\n",
    "x_pca = pca_c.fit_transform(x_12_array)\n",
    "y_12_array = pca.predict(x_pca)\n",
    "y_12=round(y_6_array.mean()*100,2)\n",
    "print(f'Probabilidad de ganar el local a los 12 minutos: {y_12} %')\n",
    "\n",
    "# A los 18 min\n",
    "x_18 = datos_partido_away_pca.iloc[0:17]\n",
    "x_18_array = x_18.to_numpy()\n",
    "x_pca = pca_c.fit_transform(x_18_array)\n",
    "y_18_array = pca.predict(x_pca)\n",
    "y_18=round(y_18_array.mean()*100,2)\n",
    "print(f'Probabilidad de ganar el local a los 18 minutos: {y_18} %')\n",
    "\n",
    "# A los 24 min\n",
    "x_24 = datos_partido_away_pca.iloc[0:23]\n",
    "x_24_array = x_24.to_numpy()\n",
    "x_pca = pca_c.fit_transform(x_24_array)\n",
    "y_24_array = pca.predict(x_pca)\n",
    "y_24=round(y_24_array.mean()*100,2)\n",
    "print(f'Probabilidad de ganar el local a los 24 minutos: {y_24} %')\n",
    "\n",
    "# A los 30 min\n",
    "x_30 = datos_partido_away_pca.iloc[0:29]\n",
    "x_30_array = x_30.to_numpy()\n",
    "x_pca = pca_c.fit_transform(x_30_array)\n",
    "y_30_array = pca.predict(x_pca)\n",
    "y_30=round(y_30_array.mean()*100,2)\n",
    "print(f'Probabilidad de ganar el local a los 30 minutos: {y_30} %')\n",
    "\n",
    "# A los 36 min\n",
    "x_36 = datos_partido_away_pca.iloc[0:35]\n",
    "x_36_array = x_36.to_numpy()\n",
    "x_pca = pca_c.fit_transform(x_36_array)\n",
    "y_36_array = pca.predict(x_pca)\n",
    "y_36=round(y_36_array.mean()*100,2)\n",
    "print(f'Probabilidad de ganar el local a los 36 minutos: {y_36} %')\n",
    "\n",
    "# A los 42 min\n",
    "x_42 = datos_partido_away_pca.iloc[0:41]\n",
    "x_42_array = x_42.to_numpy()\n",
    "x_pca = pca_c.fit_transform(x_42_array)\n",
    "y_42_array = pca.predict(x_pca)\n",
    "y_42=round(y_42_array.mean()*100,2)\n",
    "print(f'Probabilidad de ganar el local a los 42 minutos: {y_42} %')\n",
    "\n",
    "# A los 48 min\n",
    "x_48 = datos_partido_away_pca.iloc[0:47]\n",
    "x_48_array = x_48.to_numpy()\n",
    "x_pca = pca_c.fit_transform(x_48_array)\n",
    "y_48_array = pca.predict(x_pca)\n",
    "y_48=round(y_48_array.mean()*100,2)\n",
    "print(f'Probabilidad de ganar el local a los 48 minutos: {y_48} %')\n",
    "\n",
    "comparison_df['PCA_lose']=[y_6,y_12,y_18,y_24,y_30,y_36,y_42,y_48]"
   ]
  },
  {
   "attachments": {},
   "cell_type": "markdown",
   "id": "2adac5f4",
   "metadata": {},
   "source": [
    "## RFE_win"
   ]
  },
  {
   "cell_type": "code",
   "execution_count": 52,
   "id": "4523b935",
   "metadata": {},
   "outputs": [],
   "source": [
    "datos_partido_home_rfe=new_game_df_home[['PTS_home','AST_home', 'PTS_away']]"
   ]
  },
  {
   "cell_type": "code",
   "execution_count": 53,
   "id": "6671efbe",
   "metadata": {},
   "outputs": [
    {
     "name": "stdout",
     "output_type": "stream",
     "text": [
      "Probabilidad de ganar el local a los 6 minutos: 60.0 %\n",
      "Probabilidad de ganar el local a los 12 minutos: 81.82 %\n",
      "Probabilidad de ganar el local a los 18 minutos: 88.24 %\n",
      "Probabilidad de ganar el local a los 24 minutos: 91.3 %\n",
      "Probabilidad de ganar el local a los 30 minutos: 89.66 %\n",
      "Probabilidad de ganar el local a los 36 minutos: 91.43 %\n",
      "Probabilidad de ganar el local a los 42 minutos: 92.68 %\n",
      "Probabilidad de ganar el local a los 48 minutos: 93.62 %\n"
     ]
    }
   ],
   "source": [
    "# Ejemplo de aplicacion en tiempo real de un partido\n",
    "# A los 6 min\n",
    "x_6 = datos_partido_home_rfe.iloc[0:5]\n",
    "x_6_array = x_6.to_numpy()\n",
    "#x_pca = pca_c.fit_transform(x_6_array)\n",
    "y_6_array = rfe.predict(x_6_array)\n",
    "y_6=round(y_6_array.mean()*100,2)\n",
    "print(f'Probabilidad de ganar el local a los 6 minutos: {y_6} %')\n",
    "\n",
    "# A los 12 min\n",
    "x_12 = datos_partido_home_rfe.iloc[0:11]\n",
    "x_12_array = x_12.to_numpy()\n",
    "#x_pca = pca_c.fit_transform(x_12_array)\n",
    "y_12_array = rfe.predict(x_12_array)\n",
    "y_12=round(y_12_array.mean()*100,2)\n",
    "print(f'Probabilidad de ganar el local a los 12 minutos: {y_12} %')\n",
    "\n",
    "# A los 18 min\n",
    "x_18 = datos_partido_home_rfe.iloc[0:17]\n",
    "x_18_array = x_18.to_numpy()\n",
    "#x_pca = pca_c.fit_transform(x_18_array)\n",
    "y_18_array = rfe.predict(x_18_array)\n",
    "y_18=round(y_18_array.mean()*100,2)\n",
    "print(f'Probabilidad de ganar el local a los 18 minutos: {y_18} %')\n",
    "\n",
    "# A los 24 min\n",
    "x_24 = datos_partido_home_rfe.iloc[0:23]\n",
    "x_24_array = x_24.to_numpy()\n",
    "#x_pca = pca_c.fit_transform(x_24_array)\n",
    "y_24_array = rfe.predict(x_24_array)\n",
    "y_24=round(y_24_array.mean()*100,2)\n",
    "print(f'Probabilidad de ganar el local a los 24 minutos: {y_24} %')\n",
    "\n",
    "# A los 30 min\n",
    "x_30 = datos_partido_home_rfe.iloc[0:29]\n",
    "x_30_array = x_30.to_numpy()\n",
    "#x_pca = pca_c.fit_transform(x_30_array)\n",
    "y_30_array = rfe.predict(x_30_array)\n",
    "y_30=round(y_30_array.mean()*100,2)\n",
    "print(f'Probabilidad de ganar el local a los 30 minutos: {y_30} %')\n",
    "\n",
    "# A los 36 min\n",
    "x_36 = datos_partido_home_rfe.iloc[0:35]\n",
    "x_36_array = x_36.to_numpy()\n",
    "#x_pca = pca_c.fit_transform(x_36_array)\n",
    "y_36_array = rfe.predict(x_36_array)\n",
    "y_36=round(y_36_array.mean()*100,2)\n",
    "print(f'Probabilidad de ganar el local a los 36 minutos: {y_36} %')\n",
    "\n",
    "# A los 42 min\n",
    "x_42 = datos_partido_home_rfe.iloc[0:41]\n",
    "x_42_array = x_42.to_numpy()\n",
    "#x_pca = pca_c.fit_transform(x_42_array)\n",
    "y_42_array = rfe.predict(x_42_array)\n",
    "y_42=round(y_42_array.mean()*100,2)\n",
    "print(f'Probabilidad de ganar el local a los 42 minutos: {y_42} %')\n",
    "\n",
    "# A los 48 min\n",
    "x_48 = datos_partido_home_rfe.iloc[0:47]\n",
    "x_48_array = x_48.to_numpy()\n",
    "#x_pca = pca_c.fit_transform(x_48_array)\n",
    "y_48_array = rfe.predict(x_48_array)\n",
    "y_48=round(y_48_array.mean()*100,2)\n",
    "print(f'Probabilidad de ganar el local a los 48 minutos: {y_48} %')\n",
    "\n",
    "comparison_df['RFE_win']=[y_6,y_12,y_18,y_24,y_30,y_36,y_42,y_48]"
   ]
  },
  {
   "attachments": {},
   "cell_type": "markdown",
   "id": "3a69ed19",
   "metadata": {},
   "source": [
    "## RFE_lose"
   ]
  },
  {
   "cell_type": "code",
   "execution_count": 54,
   "id": "b816eb02",
   "metadata": {},
   "outputs": [],
   "source": [
    "datos_partido_away_rfe=new_game_df_away[['PTS_home','AST_home', 'PTS_away']]"
   ]
  },
  {
   "cell_type": "code",
   "execution_count": 55,
   "id": "58f773de",
   "metadata": {},
   "outputs": [
    {
     "name": "stdout",
     "output_type": "stream",
     "text": [
      "Probabilidad de ganar el local a los 6 minutos: 80.0 %\n",
      "Probabilidad de ganar el local a los 12 minutos: 36.36 %\n",
      "Probabilidad de ganar el local a los 18 minutos: 23.53 %\n",
      "Probabilidad de ganar el local a los 24 minutos: 17.39 %\n",
      "Probabilidad de ganar el local a los 30 minutos: 13.79 %\n",
      "Probabilidad de ganar el local a los 36 minutos: 11.43 %\n",
      "Probabilidad de ganar el local a los 42 minutos: 9.76 %\n",
      "Probabilidad de ganar el local a los 48 minutos: 8.51 %\n"
     ]
    }
   ],
   "source": [
    "# Ejemplo de aplicacion en tiempo real de un partido\n",
    "# A los 6 min\n",
    "x_6 = datos_partido_away_rfe.iloc[0:5]\n",
    "x_6_array = x_6.to_numpy()\n",
    "#x_pca = pca_c.fit_transform(x_6_array)\n",
    "y_6_array = rfe.predict(x_6_array)\n",
    "y_6=round(y_6_array.mean()*100,2)\n",
    "print(f'Probabilidad de ganar el local a los 6 minutos: {y_6} %')\n",
    "\n",
    "# A los 12 min\n",
    "x_12 = datos_partido_away_rfe.iloc[0:11]\n",
    "x_12_array = x_12.to_numpy()\n",
    "#x_pca = pca_c.fit_transform(x_12_array)\n",
    "y_12_array = rfe.predict(x_12_array)\n",
    "y_12=round(y_12_array.mean()*100,2)\n",
    "print(f'Probabilidad de ganar el local a los 12 minutos: {y_12} %')\n",
    "\n",
    "# A los 18 min\n",
    "x_18 = datos_partido_away_rfe.iloc[0:17]\n",
    "x_18_array = x_18.to_numpy()\n",
    "#x_pca = pca_c.fit_transform(x_18_array)\n",
    "y_18_array = rfe.predict(x_18_array)\n",
    "y_18=round(y_18_array.mean()*100,2)\n",
    "print(f'Probabilidad de ganar el local a los 18 minutos: {y_18} %')\n",
    "\n",
    "# A los 24 min\n",
    "x_24 = datos_partido_away_rfe.iloc[0:23]\n",
    "x_24_array = x_24.to_numpy()\n",
    "#x_pca = pca_c.fit_transform(x_24_array)\n",
    "y_24_array = rfe.predict(x_24_array)\n",
    "y_24=round(y_24_array.mean()*100,2)\n",
    "print(f'Probabilidad de ganar el local a los 24 minutos: {y_24} %')\n",
    "\n",
    "# A los 30 min\n",
    "x_30 = datos_partido_away_rfe.iloc[0:29]\n",
    "x_30_array = x_30.to_numpy()\n",
    "#x_pca = pca_c.fit_transform(x_30_array)\n",
    "y_30_array = rfe.predict(x_30_array)\n",
    "y_30=round(y_30_array.mean()*100,2)\n",
    "print(f'Probabilidad de ganar el local a los 30 minutos: {y_30} %')\n",
    "\n",
    "# A los 36 min\n",
    "x_36 = datos_partido_away_rfe.iloc[0:35]\n",
    "x_36_array = x_36.to_numpy()\n",
    "#x_pca = pca_c.fit_transform(x_36_array)\n",
    "y_36_array = rfe.predict(x_36_array)\n",
    "y_36=round(y_36_array.mean()*100,2)\n",
    "print(f'Probabilidad de ganar el local a los 36 minutos: {y_36} %')\n",
    "\n",
    "# A los 42 min\n",
    "x_42 = datos_partido_away_rfe.iloc[0:41]\n",
    "x_42_array = x_42.to_numpy()\n",
    "#x_pca = pca_c.fit_transform(x_42_array)\n",
    "y_42_array = rfe.predict(x_42_array)\n",
    "y_42=round(y_42_array.mean()*100,2)\n",
    "print(f'Probabilidad de ganar el local a los 42 minutos: {y_42} %')\n",
    "\n",
    "# A los 48 min\n",
    "x_48 = datos_partido_away_rfe.iloc[0:47]\n",
    "x_48_array = x_48.to_numpy()\n",
    "#x_pca = pca_c.fit_transform(x_48_array)\n",
    "y_48_array = rfe.predict(x_48_array)\n",
    "y_48=round(y_48_array.mean()*100,2)\n",
    "print(f'Probabilidad de ganar el local a los 48 minutos: {y_48} %')\n",
    "\n",
    "comparison_df['RFE_lose']=[y_6,y_12,y_18,y_24,y_30,y_36,y_42,y_48]"
   ]
  },
  {
   "attachments": {},
   "cell_type": "markdown",
   "id": "d352952b",
   "metadata": {},
   "source": [
    "## SKB_win"
   ]
  },
  {
   "cell_type": "code",
   "execution_count": 56,
   "id": "793da9fd",
   "metadata": {},
   "outputs": [],
   "source": [
    "datos_partido_home_skb=new_game_df_home[['PTS_home', 'FG_PCT_home', 'PTS_away', 'FG_PCT_away']]"
   ]
  },
  {
   "cell_type": "code",
   "execution_count": 57,
   "id": "edda5eb2",
   "metadata": {},
   "outputs": [
    {
     "name": "stdout",
     "output_type": "stream",
     "text": [
      "Probabilidad de ganar el local a los 6 minutos: 60.0 %\n",
      "Probabilidad de ganar el local a los 12 minutos: 81.82 %\n",
      "Probabilidad de ganar el local a los 18 minutos: 88.24 %\n",
      "Probabilidad de ganar el local a los 24 minutos: 91.3 %\n",
      "Probabilidad de ganar el local a los 30 minutos: 93.1 %\n",
      "Probabilidad de ganar el local a los 36 minutos: 94.29 %\n",
      "Probabilidad de ganar el local a los 42 minutos: 95.12 %\n",
      "Probabilidad de ganar el local a los 48 minutos: 95.74 %\n"
     ]
    }
   ],
   "source": [
    "# Ejemplo de aplicacion en tiempo real de un partido\n",
    "# A los 6 min\n",
    "x_6 = datos_partido_home_skb.iloc[0:5]\n",
    "x_6_array = x_6.to_numpy()\n",
    "#x_pca = pca_c.fit_transform(x_6_array)\n",
    "y_6_array = skb.predict(x_6_array)\n",
    "y_6=round(y_6_array.mean()*100,2)\n",
    "print(f'Probabilidad de ganar el local a los 6 minutos: {y_6} %')\n",
    "\n",
    "# A los 12 min\n",
    "x_12 = datos_partido_home_skb.iloc[0:11]\n",
    "x_12_array = x_12.to_numpy()\n",
    "#x_pca = pca_c.fit_transform(x_12_array)\n",
    "y_12_array = skb.predict(x_12_array)\n",
    "y_12=round(y_12_array.mean()*100,2)\n",
    "print(f'Probabilidad de ganar el local a los 12 minutos: {y_12} %')\n",
    "\n",
    "# A los 18 min\n",
    "x_18 = datos_partido_home_skb.iloc[0:17]\n",
    "x_18_array = x_18.to_numpy()\n",
    "#x_pca = pca_c.fit_transform(x_18_array)\n",
    "y_18_array = skb.predict(x_18_array)\n",
    "y_18=round(y_18_array.mean()*100,2)\n",
    "print(f'Probabilidad de ganar el local a los 18 minutos: {y_18} %')\n",
    "\n",
    "# A los 24 min\n",
    "x_24 = datos_partido_home_skb.iloc[0:23]\n",
    "x_24_array = x_24.to_numpy()\n",
    "#x_pca = pca_c.fit_transform(x_24_array)\n",
    "y_24_array = skb.predict(x_24_array)\n",
    "y_24=round(y_24_array.mean()*100,2)\n",
    "print(f'Probabilidad de ganar el local a los 24 minutos: {y_24} %')\n",
    "\n",
    "# A los 30 min\n",
    "x_30 = datos_partido_home_skb.iloc[0:29]\n",
    "x_30_array = x_30.to_numpy()\n",
    "#x_pca = pca_c.fit_transform(x_30_array)\n",
    "y_30_array = skb.predict(x_30_array)\n",
    "y_30=round(y_30_array.mean()*100,2)\n",
    "print(f'Probabilidad de ganar el local a los 30 minutos: {y_30} %')\n",
    "\n",
    "# A los 36 min\n",
    "x_36 = datos_partido_home_skb.iloc[0:35]\n",
    "x_36_array = x_36.to_numpy()\n",
    "#x_pca = pca_c.fit_transform(x_36_array)\n",
    "y_36_array = skb.predict(x_36_array)\n",
    "y_36=round(y_36_array.mean()*100,2)\n",
    "print(f'Probabilidad de ganar el local a los 36 minutos: {y_36} %')\n",
    "\n",
    "# A los 42 min\n",
    "x_42 = datos_partido_home_skb.iloc[0:41]\n",
    "x_42_array = x_42.to_numpy()\n",
    "#x_pca = pca_c.fit_transform(x_42_array)\n",
    "y_42_array = skb.predict(x_42_array)\n",
    "y_42=round(y_42_array.mean()*100,2)\n",
    "print(f'Probabilidad de ganar el local a los 42 minutos: {y_42} %')\n",
    "\n",
    "# A los 48 min\n",
    "x_48 = datos_partido_home_skb.iloc[0:47]\n",
    "x_48_array = x_48.to_numpy()\n",
    "#x_pca = pca_c.fit_transform(x_48_array)\n",
    "y_48_array = skb.predict(x_48_array)\n",
    "y_48=round(y_48_array.mean()*100,2)\n",
    "print(f'Probabilidad de ganar el local a los 48 minutos: {y_48} %')\n",
    "\n",
    "comparison_df['SKB_win']=[y_6,y_12,y_18,y_24,y_30,y_36,y_42,y_48]"
   ]
  },
  {
   "attachments": {},
   "cell_type": "markdown",
   "id": "2ed42f9e",
   "metadata": {},
   "source": [
    "## SKB_lose"
   ]
  },
  {
   "cell_type": "code",
   "execution_count": 58,
   "id": "73eae15d",
   "metadata": {},
   "outputs": [],
   "source": [
    "datos_partido_away_skb=new_game_df_away[['PTS_home', 'FG_PCT_home', 'PTS_away', 'FG_PCT_away']]"
   ]
  },
  {
   "cell_type": "code",
   "execution_count": 59,
   "id": "a6a4d3fa",
   "metadata": {},
   "outputs": [
    {
     "name": "stdout",
     "output_type": "stream",
     "text": [
      "Probabilidad de ganar el local a los 6 minutos: 80.0 %\n",
      "Probabilidad de ganar el local a los 12 minutos: 36.36 %\n",
      "Probabilidad de ganar el local a los 18 minutos: 23.53 %\n",
      "Probabilidad de ganar el local a los 24 minutos: 17.39 %\n",
      "Probabilidad de ganar el local a los 30 minutos: 17.24 %\n",
      "Probabilidad de ganar el local a los 36 minutos: 14.29 %\n",
      "Probabilidad de ganar el local a los 42 minutos: 12.2 %\n",
      "Probabilidad de ganar el local a los 48 minutos: 10.64 %\n"
     ]
    }
   ],
   "source": [
    "# Ejemplo de aplicacion en tiempo real de un partido\n",
    "# A los 6 min\n",
    "x_6 = datos_partido_away_skb.iloc[0:5]\n",
    "x_6_array = x_6.to_numpy()\n",
    "#x_pca = pca_c.fit_transform(x_6_array)\n",
    "y_6_array = skb.predict(x_6_array)\n",
    "y_6=round(y_6_array.mean()*100,2)\n",
    "print(f'Probabilidad de ganar el local a los 6 minutos: {y_6} %')\n",
    "\n",
    "# A los 12 min\n",
    "x_12 = datos_partido_away_skb.iloc[0:11]\n",
    "x_12_array = x_12.to_numpy()\n",
    "#x_pca = pca_c.fit_transform(x_12_array)\n",
    "y_12_array = skb.predict(x_12_array)\n",
    "y_12=round(y_12_array.mean()*100,2)\n",
    "print(f'Probabilidad de ganar el local a los 12 minutos: {y_12} %')\n",
    "\n",
    "# A los 18 min\n",
    "x_18 = datos_partido_away_skb.iloc[0:17]\n",
    "x_18_array = x_18.to_numpy()\n",
    "#x_pca = pca_c.fit_transform(x_18_array)\n",
    "y_18_array = skb.predict(x_18_array)\n",
    "y_18=round(y_18_array.mean()*100,2)\n",
    "print(f'Probabilidad de ganar el local a los 18 minutos: {y_18} %')\n",
    "\n",
    "# A los 24 min\n",
    "x_24 = datos_partido_away_skb.iloc[0:23]\n",
    "x_24_array = x_24.to_numpy()\n",
    "#x_pca = pca_c.fit_transform(x_24_array)\n",
    "y_24_array = skb.predict(x_24_array)\n",
    "y_24=round(y_24_array.mean()*100,2)\n",
    "print(f'Probabilidad de ganar el local a los 24 minutos: {y_24} %')\n",
    "\n",
    "# A los 30 min\n",
    "x_30 = datos_partido_away_skb.iloc[0:29]\n",
    "x_30_array = x_30.to_numpy()\n",
    "#x_pca = pca_c.fit_transform(x_30_array)\n",
    "y_30_array = skb.predict(x_30_array)\n",
    "y_30=round(y_30_array.mean()*100,2)\n",
    "print(f'Probabilidad de ganar el local a los 30 minutos: {y_30} %')\n",
    "\n",
    "# A los 36 min\n",
    "x_36 = datos_partido_away_skb.iloc[0:35]\n",
    "x_36_array = x_36.to_numpy()\n",
    "#x_pca = pca_c.fit_transform(x_36_array)\n",
    "y_36_array = skb.predict(x_36_array)\n",
    "y_36=round(y_36_array.mean()*100,2)\n",
    "print(f'Probabilidad de ganar el local a los 36 minutos: {y_36} %')\n",
    "\n",
    "# A los 42 min\n",
    "x_42 = datos_partido_away_skb.iloc[0:41]\n",
    "x_42_array = x_42.to_numpy()\n",
    "#x_pca = pca_c.fit_transform(x_42_array)\n",
    "y_42_array = skb.predict(x_42_array)\n",
    "y_42=round(y_42_array.mean()*100,2)\n",
    "print(f'Probabilidad de ganar el local a los 42 minutos: {y_42} %')\n",
    "\n",
    "# A los 48 min\n",
    "x_48 = datos_partido_away_skb.iloc[0:47]\n",
    "x_48_array = x_48.to_numpy()\n",
    "#x_pca = pca_c.fit_transform(x_48_array)\n",
    "y_48_array = skb.predict(x_48_array)\n",
    "y_48=round(y_48_array.mean()*100,2)\n",
    "print(f'Probabilidad de ganar el local a los 48 minutos: {y_48} %')\n",
    "\n",
    "comparison_df['SKB_lose']=[y_6,y_12,y_18,y_24,y_30,y_36,y_42,y_48]"
   ]
  },
  {
   "attachments": {},
   "cell_type": "markdown",
   "id": "9a48afcc",
   "metadata": {},
   "source": [
    "### Demostracion de los resultados"
   ]
  },
  {
   "cell_type": "code",
   "execution_count": 60,
   "id": "1dd40534",
   "metadata": {},
   "outputs": [
    {
     "data": {
      "text/html": [
       "<div>\n",
       "<style scoped>\n",
       "    .dataframe tbody tr th:only-of-type {\n",
       "        vertical-align: middle;\n",
       "    }\n",
       "\n",
       "    .dataframe tbody tr th {\n",
       "        vertical-align: top;\n",
       "    }\n",
       "\n",
       "    .dataframe thead th {\n",
       "        text-align: right;\n",
       "    }\n",
       "</style>\n",
       "<table border=\"1\" class=\"dataframe\">\n",
       "  <thead>\n",
       "    <tr style=\"text-align: right;\">\n",
       "      <th></th>\n",
       "      <th>Minutes</th>\n",
       "      <th>PCA_win</th>\n",
       "      <th>PCA_lose</th>\n",
       "      <th>RFE_win</th>\n",
       "      <th>RFE_lose</th>\n",
       "      <th>SKB_win</th>\n",
       "      <th>SKB_lose</th>\n",
       "    </tr>\n",
       "  </thead>\n",
       "  <tbody>\n",
       "    <tr>\n",
       "      <th>0</th>\n",
       "      <td>6</td>\n",
       "      <td>100.00</td>\n",
       "      <td>100.00</td>\n",
       "      <td>60.00</td>\n",
       "      <td>80.00</td>\n",
       "      <td>60.00</td>\n",
       "      <td>80.00</td>\n",
       "    </tr>\n",
       "    <tr>\n",
       "      <th>1</th>\n",
       "      <td>12</td>\n",
       "      <td>100.00</td>\n",
       "      <td>100.00</td>\n",
       "      <td>81.82</td>\n",
       "      <td>36.36</td>\n",
       "      <td>81.82</td>\n",
       "      <td>36.36</td>\n",
       "    </tr>\n",
       "    <tr>\n",
       "      <th>2</th>\n",
       "      <td>18</td>\n",
       "      <td>100.00</td>\n",
       "      <td>100.00</td>\n",
       "      <td>88.24</td>\n",
       "      <td>23.53</td>\n",
       "      <td>88.24</td>\n",
       "      <td>23.53</td>\n",
       "    </tr>\n",
       "    <tr>\n",
       "      <th>3</th>\n",
       "      <td>24</td>\n",
       "      <td>100.00</td>\n",
       "      <td>100.00</td>\n",
       "      <td>91.30</td>\n",
       "      <td>17.39</td>\n",
       "      <td>91.30</td>\n",
       "      <td>17.39</td>\n",
       "    </tr>\n",
       "    <tr>\n",
       "      <th>4</th>\n",
       "      <td>30</td>\n",
       "      <td>86.21</td>\n",
       "      <td>86.21</td>\n",
       "      <td>89.66</td>\n",
       "      <td>13.79</td>\n",
       "      <td>93.10</td>\n",
       "      <td>17.24</td>\n",
       "    </tr>\n",
       "    <tr>\n",
       "      <th>5</th>\n",
       "      <td>36</td>\n",
       "      <td>80.00</td>\n",
       "      <td>80.00</td>\n",
       "      <td>91.43</td>\n",
       "      <td>11.43</td>\n",
       "      <td>94.29</td>\n",
       "      <td>14.29</td>\n",
       "    </tr>\n",
       "    <tr>\n",
       "      <th>6</th>\n",
       "      <td>42</td>\n",
       "      <td>82.93</td>\n",
       "      <td>82.93</td>\n",
       "      <td>92.68</td>\n",
       "      <td>9.76</td>\n",
       "      <td>95.12</td>\n",
       "      <td>12.20</td>\n",
       "    </tr>\n",
       "    <tr>\n",
       "      <th>7</th>\n",
       "      <td>48</td>\n",
       "      <td>82.98</td>\n",
       "      <td>82.98</td>\n",
       "      <td>93.62</td>\n",
       "      <td>8.51</td>\n",
       "      <td>95.74</td>\n",
       "      <td>10.64</td>\n",
       "    </tr>\n",
       "  </tbody>\n",
       "</table>\n",
       "</div>"
      ],
      "text/plain": [
       "   Minutes  PCA_win  PCA_lose  RFE_win  RFE_lose  SKB_win  SKB_lose\n",
       "0        6   100.00    100.00    60.00     80.00    60.00     80.00\n",
       "1       12   100.00    100.00    81.82     36.36    81.82     36.36\n",
       "2       18   100.00    100.00    88.24     23.53    88.24     23.53\n",
       "3       24   100.00    100.00    91.30     17.39    91.30     17.39\n",
       "4       30    86.21     86.21    89.66     13.79    93.10     17.24\n",
       "5       36    80.00     80.00    91.43     11.43    94.29     14.29\n",
       "6       42    82.93     82.93    92.68      9.76    95.12     12.20\n",
       "7       48    82.98     82.98    93.62      8.51    95.74     10.64"
      ]
     },
     "execution_count": 60,
     "metadata": {},
     "output_type": "execute_result"
    }
   ],
   "source": [
    "comparison_df"
   ]
  },
  {
   "cell_type": "code",
   "execution_count": 61,
   "id": "33bcf2f7",
   "metadata": {},
   "outputs": [
    {
     "name": "stderr",
     "output_type": "stream",
     "text": [
      "No artists with labels found to put in legend.  Note that artists whose label start with an underscore are ignored when legend() is called with no argument.\n"
     ]
    },
    {
     "data": {
      "image/png": "[encoded data removed]",
      "text/plain": [
       "<Figure size 640x480 with 2 Axes>"
      ]
     },
     "metadata": {},
     "output_type": "display_data"
    }
   ],
   "source": [
    "# Grafico con diferencia entre un partido ganando y uno perdido\n",
    "fig, (ax1, ax2) = plt.subplots(nrows=1, ncols=2 )\n",
    "# Grafico ganado\n",
    "ax1.plot(comparison_df['Minutes'], comparison_df['PCA_win'], label='PCA')\n",
    "ax1.plot(comparison_df['Minutes'], comparison_df['RFE_win'], label='RFE')\n",
    "ax1.plot(comparison_df['Minutes'], comparison_df['SKB_win'], label='SKB')\n",
    "ax.legend()\n",
    "ax1.set_xlabel('Minutos')\n",
    "ax1.set_ylabel('Probabilidad g/L')\n",
    "ax1.set_title('Partido ganado por Local')\n",
    "# Gráfico perdido\n",
    "ax2.plot(comparison_df['Minutes'], comparison_df['PCA_lose'], label='PCA')\n",
    "ax2.plot(comparison_df['Minutes'], comparison_df['RFE_lose'], label='RFE')\n",
    "ax2.plot(comparison_df['Minutes'], comparison_df['SKB_lose'], label='SKB')\n",
    "ax2.legend()\n",
    "ax2.set_xlabel('Minutos')\n",
    "ax2.set_ylabel('Probabilidad g/L')\n",
    "ax2.set_title('Partido perdido por Local')\n",
    "# Ajustar el espaciado entre subplots\n",
    "plt.tight_layout()\n",
    "plt.show()"
   ]
  },
  {
   "attachments": {},
   "cell_type": "markdown",
   "id": "49b527f6",
   "metadata": {},
   "source": [
    "En la grafica anterior , si utilizamos datos del partido en tiempo real, se puede verificar algunas conclusiones de cada modelo:\n",
    "\n",
    "**El modelo que se entreno utilizando el \"feature selection\" por PCA , tiene un sesgo de ganar el partido**\n",
    "\n",
    "**Los modelos que se entrenaron utilizando el \"feature selection\" por RFE y SKB , tienen una desicion mas real de lo que sucede en el partido**\n",
    "\n",
    "De esta manera , se deberia concluir que **los modelos apropiados serian el entrenado por RFE y por SKB** . Para poder continuar con el proyecto se tomara como objetivo de desicion el valor promedio entre ambos modelos"
   ]
  },
  {
   "cell_type": "code",
   "execution_count": 62,
   "id": "eb8775d7",
   "metadata": {},
   "outputs": [
    {
     "data": {
      "text/html": [
       "<div>\n",
       "<style scoped>\n",
       "    .dataframe tbody tr th:only-of-type {\n",
       "        vertical-align: middle;\n",
       "    }\n",
       "\n",
       "    .dataframe tbody tr th {\n",
       "        vertical-align: top;\n",
       "    }\n",
       "\n",
       "    .dataframe thead th {\n",
       "        text-align: right;\n",
       "    }\n",
       "</style>\n",
       "<table border=\"1\" class=\"dataframe\">\n",
       "  <thead>\n",
       "    <tr style=\"text-align: right;\">\n",
       "      <th></th>\n",
       "      <th>Minutes</th>\n",
       "      <th>PCA_win</th>\n",
       "      <th>PCA_lose</th>\n",
       "      <th>RFE_win</th>\n",
       "      <th>RFE_lose</th>\n",
       "      <th>SKB_win</th>\n",
       "      <th>SKB_lose</th>\n",
       "      <th>Combinated_model_win</th>\n",
       "      <th>Combinated_model_lose</th>\n",
       "    </tr>\n",
       "  </thead>\n",
       "  <tbody>\n",
       "    <tr>\n",
       "      <th>0</th>\n",
       "      <td>6</td>\n",
       "      <td>100.00</td>\n",
       "      <td>100.00</td>\n",
       "      <td>60.00</td>\n",
       "      <td>80.00</td>\n",
       "      <td>60.00</td>\n",
       "      <td>80.00</td>\n",
       "      <td>60.00</td>\n",
       "      <td>80.000</td>\n",
       "    </tr>\n",
       "    <tr>\n",
       "      <th>1</th>\n",
       "      <td>12</td>\n",
       "      <td>100.00</td>\n",
       "      <td>100.00</td>\n",
       "      <td>81.82</td>\n",
       "      <td>36.36</td>\n",
       "      <td>81.82</td>\n",
       "      <td>36.36</td>\n",
       "      <td>81.82</td>\n",
       "      <td>36.360</td>\n",
       "    </tr>\n",
       "    <tr>\n",
       "      <th>2</th>\n",
       "      <td>18</td>\n",
       "      <td>100.00</td>\n",
       "      <td>100.00</td>\n",
       "      <td>88.24</td>\n",
       "      <td>23.53</td>\n",
       "      <td>88.24</td>\n",
       "      <td>23.53</td>\n",
       "      <td>88.24</td>\n",
       "      <td>23.530</td>\n",
       "    </tr>\n",
       "    <tr>\n",
       "      <th>3</th>\n",
       "      <td>24</td>\n",
       "      <td>100.00</td>\n",
       "      <td>100.00</td>\n",
       "      <td>91.30</td>\n",
       "      <td>17.39</td>\n",
       "      <td>91.30</td>\n",
       "      <td>17.39</td>\n",
       "      <td>91.30</td>\n",
       "      <td>17.390</td>\n",
       "    </tr>\n",
       "    <tr>\n",
       "      <th>4</th>\n",
       "      <td>30</td>\n",
       "      <td>86.21</td>\n",
       "      <td>86.21</td>\n",
       "      <td>89.66</td>\n",
       "      <td>13.79</td>\n",
       "      <td>93.10</td>\n",
       "      <td>17.24</td>\n",
       "      <td>91.38</td>\n",
       "      <td>15.515</td>\n",
       "    </tr>\n",
       "    <tr>\n",
       "      <th>5</th>\n",
       "      <td>36</td>\n",
       "      <td>80.00</td>\n",
       "      <td>80.00</td>\n",
       "      <td>91.43</td>\n",
       "      <td>11.43</td>\n",
       "      <td>94.29</td>\n",
       "      <td>14.29</td>\n",
       "      <td>92.86</td>\n",
       "      <td>12.860</td>\n",
       "    </tr>\n",
       "    <tr>\n",
       "      <th>6</th>\n",
       "      <td>42</td>\n",
       "      <td>82.93</td>\n",
       "      <td>82.93</td>\n",
       "      <td>92.68</td>\n",
       "      <td>9.76</td>\n",
       "      <td>95.12</td>\n",
       "      <td>12.20</td>\n",
       "      <td>93.90</td>\n",
       "      <td>10.980</td>\n",
       "    </tr>\n",
       "    <tr>\n",
       "      <th>7</th>\n",
       "      <td>48</td>\n",
       "      <td>82.98</td>\n",
       "      <td>82.98</td>\n",
       "      <td>93.62</td>\n",
       "      <td>8.51</td>\n",
       "      <td>95.74</td>\n",
       "      <td>10.64</td>\n",
       "      <td>94.68</td>\n",
       "      <td>9.575</td>\n",
       "    </tr>\n",
       "  </tbody>\n",
       "</table>\n",
       "</div>"
      ],
      "text/plain": [
       "   Minutes  PCA_win  PCA_lose  RFE_win  RFE_lose  SKB_win  SKB_lose  \\\n",
       "0        6   100.00    100.00    60.00     80.00    60.00     80.00   \n",
       "1       12   100.00    100.00    81.82     36.36    81.82     36.36   \n",
       "2       18   100.00    100.00    88.24     23.53    88.24     23.53   \n",
       "3       24   100.00    100.00    91.30     17.39    91.30     17.39   \n",
       "4       30    86.21     86.21    89.66     13.79    93.10     17.24   \n",
       "5       36    80.00     80.00    91.43     11.43    94.29     14.29   \n",
       "6       42    82.93     82.93    92.68      9.76    95.12     12.20   \n",
       "7       48    82.98     82.98    93.62      8.51    95.74     10.64   \n",
       "\n",
       "   Combinated_model_win  Combinated_model_lose  \n",
       "0                 60.00                 80.000  \n",
       "1                 81.82                 36.360  \n",
       "2                 88.24                 23.530  \n",
       "3                 91.30                 17.390  \n",
       "4                 91.38                 15.515  \n",
       "5                 92.86                 12.860  \n",
       "6                 93.90                 10.980  \n",
       "7                 94.68                  9.575  "
      ]
     },
     "execution_count": 62,
     "metadata": {},
     "output_type": "execute_result"
    }
   ],
   "source": [
    "#Promedio entre ambos modelos\n",
    "comparison_df['Combinated_model_win'] = (comparison_df['RFE_win']+comparison_df['SKB_win'])/2\n",
    "comparison_df['Combinated_model_lose'] = (comparison_df['RFE_lose']+comparison_df['SKB_lose'])/2\n",
    "comparison_df"
   ]
  },
  {
   "attachments": {},
   "cell_type": "markdown",
   "id": "3a3db471",
   "metadata": {},
   "source": [
    "# Calculo de la variable Target"
   ]
  },
  {
   "attachments": {},
   "cell_type": "markdown",
   "id": "bc3ac796",
   "metadata": {},
   "source": [
    "La fórmula de las probabilidades implícitas se establece de la siguiente manera:\n",
    "\n",
    "    'K = 1 / p'\n",
    "\n",
    "Donde 'p' es la probabilidad de que un equipo gane , expresada como un número decimal entre 0 y 1.\n",
    "\n",
    "Por ejemplo, si la probabilidad de que un equipo gane es del 60%, la cuota sería de 1 / 0.6 = 1.67. Esto trae un problema a la hora de usarlo con probabilidades extremas , ya que los numeros son demasiado chicos si tienen gran probabilidad de ganar o son demasiado grande si la probabilidad es muy chica (verdadero problema). Por lo tanto , actualizaremos haremos el codigo de manera que se limiten los valores de cuota a 2 cuando la probabilidad es minima. De esta manera quedaria:"
   ]
  },
  {
   "cell_type": "code",
   "execution_count": 63,
   "id": "0889d6e5",
   "metadata": {},
   "outputs": [
    {
     "name": "stdout",
     "output_type": "stream",
     "text": [
      "La variable de cuota para el partido en el minuto 6 es:  1.667\n",
      "La variable de cuota para el partido en el minuto 12 es:  1.222\n",
      "La variable de cuota para el partido en el minuto 18 es:  1.133\n",
      "La variable de cuota para el partido en el minuto 24 es:  1.095\n",
      "La variable de cuota para el partido en el minuto 30 es:  1.094\n",
      "La variable de cuota para el partido en el minuto 36 es:  1.077\n",
      "La variable de cuota para el partido en el minuto 42 es:  1.065\n",
      "La variable de cuota para el partido en el minuto 48 es:  1.056\n"
     ]
    }
   ],
   "source": [
    "# En base a la explicacion del ultimo parrafo, establecemos la variable de cuota 'K' y la posibilidad durante el partido\n",
    "K_win=[]\n",
    "K_win.insert(0,100/(comparison_df.loc[comparison_df['Minutes'] == 6 , 'Combinated_model_win'].item()))\n",
    "K_win.insert(1,100/(comparison_df.loc[comparison_df['Minutes'] == 12 , 'Combinated_model_win'].item()))\n",
    "K_win.insert(2,100/(comparison_df.loc[comparison_df['Minutes'] == 18 , 'Combinated_model_win'].item()))\n",
    "K_win.insert(3,100/(comparison_df.loc[comparison_df['Minutes'] == 24 , 'Combinated_model_win'].item()))\n",
    "K_win.insert(4,100/(comparison_df.loc[comparison_df['Minutes'] == 30 , 'Combinated_model_win'].item()))\n",
    "K_win.insert(5,100/(comparison_df.loc[comparison_df['Minutes'] == 36 , 'Combinated_model_win'].item()))\n",
    "K_win.insert(6,100/(comparison_df.loc[comparison_df['Minutes'] == 42 , 'Combinated_model_win'].item()))\n",
    "K_win.insert(7,100/(comparison_df.loc[comparison_df['Minutes'] == 48 , 'Combinated_model_win'].item()))\n",
    "print('La variable de cuota para el partido en el minuto 6 es: ', round(K_win[0],3))\n",
    "print('La variable de cuota para el partido en el minuto 12 es: ', round(K_win[1],3))\n",
    "print('La variable de cuota para el partido en el minuto 18 es: ', round(K_win[2],3))\n",
    "print('La variable de cuota para el partido en el minuto 24 es: ', round(K_win[3],3))\n",
    "print('La variable de cuota para el partido en el minuto 30 es: ', round(K_win[4],3))\n",
    "print('La variable de cuota para el partido en el minuto 36 es: ', round(K_win[5],3))\n",
    "print('La variable de cuota para el partido en el minuto 42 es: ', round(K_win[6],3))\n",
    "print('La variable de cuota para el partido en el minuto 48 es: ', round(K_win[7],3))"
   ]
  },
  {
   "cell_type": "code",
   "execution_count": 64,
   "id": "4ba94654",
   "metadata": {},
   "outputs": [
    {
     "name": "stdout",
     "output_type": "stream",
     "text": [
      "La variable de cuota para el partido en el minuto 6 es:  1.25\n",
      "La variable de cuota para el partido en el minuto 12 es:  2.75\n",
      "La variable de cuota para el partido en el minuto 18 es:  4.25\n",
      "La variable de cuota para el partido en el minuto 24 es:  5.75\n",
      "La variable de cuota para el partido en el minuto 30 es:  6.445\n",
      "La variable de cuota para el partido en el minuto 36 es:  7.776\n",
      "La variable de cuota para el partido en el minuto 42 es:  9.107\n",
      "La variable de cuota para el partido en el minuto 48 es:  10.444\n"
     ]
    }
   ],
   "source": [
    "# En base a la explicacion del ultimo parrafo, establecemos la variable de cuota 'K' y la posibilidad durante el partido\n",
    "K_lose=[]\n",
    "K_lose.insert(0,100/(comparison_df.loc[comparison_df['Minutes'] == 6 , 'Combinated_model_lose'].item()))\n",
    "K_lose.insert(1,100/(comparison_df.loc[comparison_df['Minutes'] == 12 , 'Combinated_model_lose'].item()))\n",
    "K_lose.insert(2,100/(comparison_df.loc[comparison_df['Minutes'] == 18 , 'Combinated_model_lose'].item()))\n",
    "K_lose.insert(3,100/(comparison_df.loc[comparison_df['Minutes'] == 24 , 'Combinated_model_lose'].item()))\n",
    "K_lose.insert(4,100/(comparison_df.loc[comparison_df['Minutes'] == 30 , 'Combinated_model_lose'].item()))\n",
    "K_lose.insert(5,100/(comparison_df.loc[comparison_df['Minutes'] == 36 , 'Combinated_model_lose'].item()))\n",
    "K_lose.insert(6,100/(comparison_df.loc[comparison_df['Minutes'] == 42 , 'Combinated_model_lose'].item()))\n",
    "K_lose.insert(7,100/(comparison_df.loc[comparison_df['Minutes'] == 48 , 'Combinated_model_lose'].item()))\n",
    "print('La variable de cuota para el partido en el minuto 6 es: ', round(K_lose[0],3))\n",
    "print('La variable de cuota para el partido en el minuto 12 es: ', round(K_lose[1],3))\n",
    "print('La variable de cuota para el partido en el minuto 18 es: ', round(K_lose[2],3))\n",
    "print('La variable de cuota para el partido en el minuto 24 es: ', round(K_lose[3],3))\n",
    "print('La variable de cuota para el partido en el minuto 30 es: ', round(K_lose[4],3))\n",
    "print('La variable de cuota para el partido en el minuto 36 es: ', round(K_lose[5],3))\n",
    "print('La variable de cuota para el partido en el minuto 42 es: ', round(K_lose[6],3))\n",
    "print('La variable de cuota para el partido en el minuto 48 es: ', round(K_lose[7],3))"
   ]
  },
  {
   "cell_type": "code",
   "execution_count": 65,
   "id": "ad9d0c95",
   "metadata": {},
   "outputs": [
    {
     "data": {
      "image/png": "[encoded data removed]",
      "text/plain": [
       "<Figure size 640x480 with 1 Axes>"
      ]
     },
     "metadata": {},
     "output_type": "display_data"
    }
   ],
   "source": [
    "# Graficar las diferencias entre las cuotas\n",
    "fig, ax = plt.subplots()\n",
    "ax.plot(K_win, label='Cuota si gana')\n",
    "ax.plot(K_lose, label='Cuota si pierde')\n",
    "ax.legend()\n",
    "ax.set_xlabel('Minutos')\n",
    "plt.show()"
   ]
  },
  {
   "attachments": {},
   "cell_type": "markdown",
   "id": "01f3bdca",
   "metadata": {},
   "source": [
    "Finalmente , se demuestra que la cuota puede ser un sistema automatizado en el cual el modelo predice una buena aproximacion para el final del mismo. Asi mismo es posible probarlo con cualquier tipo de arreglo que contenga esta informacion minuto a minuto. \n",
    "\n",
    "Hay que recordar que en los sistemas de apuestas , existen muchas intervenciones desde la misma plataforma , como el *\"payout\"* , los *\"Overround\"*, y tambien los participantes en la misma. Por lo tanto , una cuota alta o cuota baja no representa la ganancia que tendra cada participante , este valor representa mejor la distribucion de la apuesta ganadora entre los participantes."
   ]
  }
 ],
 "metadata": {
  "kernelspec": {
   "display_name": "Python 3 (ipykernel)",
   "language": "python",
   "name": "python3"
  },
  "language_info": {
   "codemirror_mode": {
    "name": "ipython",
    "version": 3
   },
   "file_extension": ".py",
   "mimetype": "text/x-python",
   "name": "python",
   "nbconvert_exporter": "python",
   "pygments_lexer": "ipython3",
   "version": "3.9.6"
  }
 },
 "nbformat": 4,
 "nbformat_minor": 5
}
