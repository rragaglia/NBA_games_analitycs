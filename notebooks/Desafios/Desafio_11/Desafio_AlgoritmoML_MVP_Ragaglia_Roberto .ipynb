{
 "cells": [
  {
   "attachments": {},
   "cell_type": "markdown",
   "id": "e25ee52d",
   "metadata": {},
   "source": [
    "# Abstract \n",
    "\n",
    "La posibilidad que brindan los sistemas automatizados de decision y clasificacion son sobresalientes al producir mejoras de producto y reducir costos o aumentar ganacias, de manera sistematica y eficaz. Muchas empresas relacionadas al juego y apuestas utilizan esto para predecir numeros ante la gran cantidad de datos que se nos brinda dados en el dataset. Asi mismo , el cliente propone una solucion practica ante las circunstacias economicas que atraviesa.\n",
    "\n",
    "En base a esta informacion , se puede hacer una investigacion y resolver las practicas beneficiosas de los jugadores y del equipo en cada uno de los juegos, es decir , es posible hacer preguntas y responderlas para obtener nuevos conocimientos sobre los equipos, los jugadores y la competencia en sí. Por ejemplo, se puede analizar la tendencia de los equipos en casa y fuera de casa, las estadísticas de los jugadores en diferentes momentos del partido, o el porcentaje de victorias y derrotas de los equipos.\n",
    "\n",
    "Este proyecto se basara en utilizar los datos disponibles para encontrar las diferencias y probrabilidades en cada partido dado durante los años jugados por la NBA. El objetivo se centrara en poder adquirir una variable que determine un numero en el cual se basara la cuota cobrada por el sistema de apuestas. Ademas , este analisis proovera al cliente con el gran beneficio del conocimiento y la ventaja por sobre la competencia , o hacia los mismos usuarios de la plataforma.\n",
    "\n",
    "Asi, lo visto durante un analisis exploratorio de los datos y las caracteristicas del conjunto , se plantearan las primeras hipotesis para luego establecer un modelo predictivo de los datos de interes. Luego de un resultado final , se podra verificar el uso de las herramientas y las capacidades un sistema de ML."
   ]
  },
  {
   "cell_type": "markdown",
   "id": "d3a542c6",
   "metadata": {},
   "source": [
    "# Entrenando un algoritmo de Machine Learning (Segunda parte)"
   ]
  },
  {
   "cell_type": "markdown",
   "id": "3138e69e",
   "metadata": {},
   "source": [
    "Una de las bases del entrenamiento de un modelo se basa en las variables que se utilizaran para el mimso , la correlacion con la *variable Target* y la variabilidad de estas , seran determinantes a la hora de elegirlas.\n",
    "Las variable existentes no muestran de manera directa la relacion de que **un equipo gane segun su comportamiento en temporadas pasadas/actual** . En estos casos , es sugerible realizar nuevas variables en el propio dataset que brinden nueva informacion y esta informacion demuestre la correlacion con las variable de interes"
   ]
  },
  {
   "cell_type": "markdown",
   "id": "91d18e8d",
   "metadata": {},
   "source": [
    "## Desarrollo del codigo"
   ]
  },
  {
   "cell_type": "code",
   "execution_count": null,
   "id": "8e479baa",
   "metadata": {},
   "outputs": [],
   "source": [
    "#Cargar librerias principales\n",
    "import pandas as pd\n",
    "import numpy as np\n",
    "import seaborn as sns\n",
    "import matplotlib.pyplot as plt\n",
    "import os\n",
    "import warnings\n",
    "# Suprimir las advertencias para futuros usos\n",
    "warnings.filterwarnings(\"ignore\")"
   ]
  },
  {
   "cell_type": "markdown",
   "id": "a0a11c3d",
   "metadata": {},
   "source": [
    "## Feature Engenering: WIN_SEASONS & WIN_SEASON_C"
   ]
  },
  {
   "cell_type": "markdown",
   "id": "7ae58ff3",
   "metadata": {},
   "source": [
    "Para poder establecer que equipos poseen un mejor rendimiento o que poseen una mayor posibilidad de ganar , se decidio basarse en las cantidad de veces que gano y la cantidad de veces que gano consecutivamente (como se derrollo en la ultima entrega):\n",
    "\n",
    "**WIN_SEASONS** : Cantidad de temporadas ganadas del equipo\n",
    "\n",
    "**WIN_SEASONS_C** : Cantidad de temporadas ganadas consecutivas del equipo (Veces que sucedio)\n",
    "\n",
    "Estas variables almacenaran los valores que se obtubieron en insights ya presentados\n",
    "\n",
    "Hay que recordar que en analisis anterior se concluyo que:\n",
    "\n",
    "Los puntajes en los equipos durante las temporadas es similar\n",
    "\n",
    "Los equipos que ganaron alguna ves el campeonato tienen una mayor probabilidad de hacerlo nuevamente con respecto al azar\n",
    "\n",
    "Los equipos que ganaron el campeonato actualmente , tendran una mayor probabilidad de hacerlo nuevamente el proximo año\n"
   ]
  },
  {
   "cell_type": "code",
   "execution_count": null,
   "id": "7de893e0",
   "metadata": {},
   "outputs": [],
   "source": [
    "# Se cargara el dataset de entrenamiento (el ds origianl = clean_games.csv) \n",
    "# y actualizara con los valores que queremos agregar (team_wins.csv)\n",
    "os.chdir('D:/Documents/GitHub/NBA_games_analitycs/data')\n",
    "ds_path='clean_games.csv'\n",
    "df = pd.read_csv(ds_path)\n",
    "tw_path='team_wins.csv'\n",
    "tw = pd.read_csv(tw_path)\n",
    "\n",
    "# Define la codificación alfabética\n",
    "equipos = {}\n",
    "equipo_actual = 'A'\n",
    "\n",
    "# Itera sobre las filas del DataFrame y realiza los cambios en las columnas HOME_TEAM_ID y VISITOR_TEAM_ID\n",
    "for index, row in df.iterrows():\n",
    "    home_team_id = row['TEAM_ID_home']\n",
    "    visitor_team_id = row['TEAM_ID_away']\n",
    "    \n",
    "    # Verifica si el equipo ya está codificado, si no, le asigna una nueva letra\n",
    "    if home_team_id not in equipos:\n",
    "        equipos[home_team_id] = equipo_actual\n",
    "        equipo_actual = chr(ord(equipo_actual) + 1)\n",
    "    \n",
    "    if visitor_team_id not in equipos:\n",
    "        equipos[visitor_team_id] = equipo_actual\n",
    "        equipo_actual = chr(ord(equipo_actual) + 1)\n",
    "    \n",
    "    # Actualiza los valores de los nombres de los equipos en las columnas correspondientes\n",
    "    df.at[index, 'TEAM_ID_home'] = equipos[home_team_id]\n",
    "    df.at[index, 'TEAM_ID_away'] = equipos[visitor_team_id]\n",
    "#df.head()"
   ]
  },
  {
   "cell_type": "code",
   "execution_count": null,
   "id": "82829e75",
   "metadata": {},
   "outputs": [],
   "source": [
    "tw"
   ]
  },
  {
   "cell_type": "code",
   "execution_count": null,
   "id": "02df56c5",
   "metadata": {},
   "outputs": [],
   "source": [
    "# Previo a continuar , modificaremos los nombres de las columnas para que no generen conflicto en los dataframe a usar\n",
    "tw = tw.rename(columns={'TEAM_ID': 'WIN_SEASONS','veces_consecutivas':'WIN_SEASONS_C'})\n",
    "# Crearemos un DataFrame para almacenar los valores acumulados por equipo y temporada\n",
    "equipos = tw[\"WIN_SEASONS\"].unique()\n",
    "temporadas = tw[\"SEASON\"].unique()\n",
    "register = pd.DataFrame(columns=equipos, index=temporadas)\n",
    "# Calcular los valores acumulados por equipo y temporada\n",
    "for temporada in temporadas:\n",
    "    for equipo in equipos:\n",
    "        df_temp = tw[(tw[\"SEASON\"] <= temporada) & (tw[\"WIN_SEASONS\"] == equipo)]\n",
    "        register.loc[temporada, equipo] = df_temp[\"WIN_SEASONS\"].apply(len).sum()\n",
    "\n",
    "# Se agregan al DataFrame los datos\n",
    "df = pd.merge(df,tw[['SEASON', 'WIN_SEASONS']], on='SEASON', how='left')\n",
    "df = pd.merge(df,tw[['SEASON', 'WIN_SEASONS_C']], on='SEASON', how='left')\n",
    "\n",
    "df"
   ]
  },
  {
   "cell_type": "code",
   "execution_count": null,
   "id": "b4d84e03",
   "metadata": {},
   "outputs": [],
   "source": [
    "# Crear un DataFrame para almacenar los valores acumulados por equipo y temporada\n",
    "equipos = tw[\"WIN_SEASONS\"].unique()\n",
    "temporadas = tw[\"SEASON\"].unique()\n",
    "register = pd.DataFrame(columns=equipos, index=temporadas)\n",
    "\n",
    "# Calcular los valores acumulados por equipo y temporada\n",
    "for temporada in temporadas:\n",
    "    for equipo in equipos:\n",
    "        df_temp = tw[(tw[\"SEASON\"] <= temporada) & (tw[\"WIN_SEASONS\"] == equipo)]\n",
    "        register.loc[temporada, equipo] = df_temp[\"WIN_SEASONS\"].apply(len).sum()\n",
    "\n",
    "print(register)"
   ]
  },
  {
   "cell_type": "code",
   "execution_count": null,
   "id": "21cb5094",
   "metadata": {},
   "outputs": [],
   "source": [
    "df.head()"
   ]
  },
  {
   "cell_type": "code",
   "execution_count": null,
   "id": "1a4cbe74",
   "metadata": {},
   "outputs": [],
   "source": [
    "def obtener_valor_register(season,home_id,register):\n",
    "    if home_id in register.columns:\n",
    "        temp = register[home_id]\n",
    "        temp_2 = temp[season]\n",
    "    else:\n",
    "        temp_2 = 0\n",
    "    return temp_2\n",
    "\n",
    "\n",
    "for match in range(len(df['WIN_SEASONS'])):\n",
    "    season=int(df.iloc[match,df.columns.get_indexer(['SEASON'])].values)\n",
    "    team=df.iloc[match ,df.columns.get_indexer(['TEAM_ID_home'])].values.item(0)\n",
    "    temp = obtener_valor_register(season,team,register)\n",
    "    df['WIN_SEASONS'][match] = temp\n",
    "\n",
    "df\n",
    "#7 min de ejecucion"
   ]
  },
  {
   "cell_type": "markdown",
   "id": "322a622a",
   "metadata": {},
   "source": [
    "Ya definidas las variables de interes , se procedera a realizar un modelo que realice la prediccion de un valor de importancia (o peso) , es decir , se **realizara una variable muestre un factor de \"ganador\"**\n",
    "\n",
    "**WIN_FACTOR** : Factor que muestra posibilidad de ganar del equipo\n",
    "\n",
    "Lo que se intenta con esta variable es poder modificar la variable target durante el primer cuarto de un partido, para que el modelo tenga una mayor precision al inicio del mismo , ya que al tener pocos datos (datos que se recopilan en tiempo real) el modelo podria estar dando un valor de cuota erroneo totalmente en los primeros 12 minutos.\n",
    "\n",
    "Para estimar el valor de una variable acorde de probabilidad (entre 0 y 1) , se usara el anterior desarrollo de proporciones de las situaciones a favor en las que ganaron los equipos:"
   ]
  },
  {
   "cell_type": "code",
   "execution_count": null,
   "id": "5863df67",
   "metadata": {},
   "outputs": [],
   "source": [
    "# Cantidad de equipos que participan en la temporada para estimar una probabilidad clasica de que cada equipo sea victorioso\n",
    "n_equipos = 60\n",
    "p_equipos = 1/60\n",
    "print(f'La probabilidad clasica de ganar es de :',round(p_equipos,2))\n",
    "\n",
    "# Cantidad de veces que hubo victorias consecutivas, temporadas en las que se produjo un caso y la proporcion de casos\n",
    "ganadas_consecutivas = 5\n",
    "temporadas_consecutivas = 19\n",
    "equipos_consecutivas = 4\n",
    "proporcion_consecutivas = ganadas_consecutivas/(temporadas_consecutivas*equipos_consecutivas)\n",
    "print(f'La proporcion de ganadas consecutivas por equipo es de :',round(proporcion_consecutivas,2))\n",
    "\n",
    "# Cantidad de veces que hubo victorias individuales, temporadas en las que se pudo producir un caso y la proporcion de casos\n",
    "ganadas_individuales = 13 # No consecutivas\n",
    "equipos_individuales = 7  # Equipos que ganaron una temporada sin ser una consecutiva\n",
    "temporadas_individuales = 20\n",
    "proporcion_individuales = ganadas_individuales/(temporadas_individuales*equipos_individuales)\n",
    "print(f'La proporcion de ganadas individuales por equipo es de :',round(proporcion_individuales,2))"
   ]
  },
  {
   "cell_type": "markdown",
   "id": "d8775d05",
   "metadata": {},
   "source": [
    "Asi  podemos estimar de manera discreta , que la posibilidad de ganar de un equipo que gano al menos una ves es del 7% y la probabilidad de ser victorioso porque gano la temporada anterior es de un 9%\n",
    "Para el ultimo caso , la probabilidad es condicional debido a que es necesario que gane la temporada actual (y eso tiene una probabilidad asociada).Asi , se tomaran 3 casos para estimar las bases:\n",
    "\n",
    "**Si el equipo no gano ninguna temporada hasta ahora , se considerara como una situacion normal en la que tiene la misma posibilidad de ganar que los demas , es decir, 2%**\n",
    "\n",
    "**Si el equipo gano al menos una temporada hasta ahora, se considerara una probabilidad mayor a la situacion normal , que deberia ser la que el equipo es de mejor rendimiento que la mayoria , es decir , la probabilidad estadistica + la probabilidad por ser un \"equipo de mejor rendimiento\" , 2% + 7% = 9%**\n",
    "\n",
    "**Si el equipo gano la ultima temporada, se considera que el equipo es de mayor rendimiento que la mayoria y que existe la posibilidad de continuar la racha por \"un mejor estado del equipo\" demostrado en la ultima temporada: 2% + 7% + 9% = 18%**\n",
    "\n",
    "Teniendo las bases para las condiciones , se puede establecer la ecuacion con los parametros ajustados a un valor apropiado:\n",
    "\n",
    "PC= Probabilidad estadistica : [1 equipo]/[N de equipos]\n",
    "\n",
    "PGC = Probabilidad por estado : [Victorias consecutivas de equipos]/[Temporada consecutivas de equipos * N de equipos que ganaron consecutivamente]\n",
    "\n",
    "PGI = Probabilidad por rendimiento y club : [Victorias individuales de equipos]/[Temporada individuales de equipos * N de equipos que ganaron al menos una ves]\n",
    "\n",
    "WF = PC + PGC + PGI \n",
    "\n",
    "Como estimacion por puntaje , presenta un valor aceptable pero el tiempo es parte del efecto de estas posibilidades, por lo tanto , sera necesario tomar algunos parametros extra para ajustar aun mejor la variable.\n",
    "\n",
    "WF = PC + PGC x UT + PGI x RR\n",
    "\n",
    "UT (Ultima Temporada) = Parametro binario que determina si gano o no la ultima temporada : [ 1 | 0 ]\n",
    "\n",
    "RR (Rendimiento Reciente) = Parametro que determina en que medida se puede estimar el rendimiento de un equipo debido a las ganadas de las temporadas anteriores : [Numero de temporada victoriosas de cada equipo] / [Numero de temporada totales que participo el equipo]\n",
    "\n",
    "De esta manera es posible parametrizar el peso de cada situacion que genera una adicion de probabilidad a ganar"
   ]
  },
  {
   "cell_type": "code",
   "execution_count": null,
   "id": "7a6defda",
   "metadata": {},
   "outputs": [],
   "source": [
    "def obtener_win_factor(season,home_id,register):\n",
    "    if home_id in register.columns:\n",
    "        temp = register[home_id]\n",
    "        temp_2 = temp[season]\n",
    "    else:\n",
    "        temp_2 = 0\n",
    "    return temp_2\n",
    "\n",
    "\n",
    "for match in range(len(df['WIN_SEASONS'])):\n",
    "    season=int(df.iloc[match,df.columns.get_indexer(['SEASON'])].values)\n",
    "    team=df.iloc[match ,df.columns.get_indexer(['TEAM_ID_home'])].values.item(0)\n",
    "    temp = obtener_win_factor(season,team,register)\n",
    "    df['WIN_SEASONS'][match] = temp\n",
    "\n",
    "df"
   ]
  },
  {
   "cell_type": "markdown",
   "id": "e278cf24",
   "metadata": {},
   "source": [
    "A partir de estas variables agregadas es posible realizar un modelo que las relacione y realice una prediccion para cada partido.\n",
    "Se procedera a armar el dataset con las variables y organizarlo correctamente para que el modelo pueda ser entrenado."
   ]
  }
 ],
 "metadata": {
  "kernelspec": {
   "display_name": "Python 3 (ipykernel)",
   "language": "python",
   "name": "python3"
  },
  "language_info": {
   "codemirror_mode": {
    "name": "ipython",
    "version": 3
   },
   "file_extension": ".py",
   "mimetype": "text/x-python",
   "name": "python",
   "nbconvert_exporter": "python",
   "pygments_lexer": "ipython3",
   "version": "3.9.6"
  }
 },
 "nbformat": 4,
 "nbformat_minor": 5
}
