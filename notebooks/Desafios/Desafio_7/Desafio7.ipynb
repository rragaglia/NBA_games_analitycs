{
 "cells": [
  {
   "attachments": {},
   "cell_type": "markdown",
   "metadata": {},
   "source": [
    "# Abstract \n",
    "\n",
    "La posibilidad que brindan los sistemas automatizados de decision y clasificacion son sobresalientes al producir mejoras de producto y reducir costos o aumentar ganacias, de manera sistematica y eficaz. Muchas empresas relacionadas al juego y apuestas utilizan esto para predecir numeros ante la gran cantidad de datos que se nos brinda dados en el dataset. Asi mismo , el cliente propone una solucion practica ante las circunstacias economicas que atraviesa.\n",
    "\n",
    "En base a esta informacion , se puede hacer una investigacion y resolver las practicas beneficiosas de los jugadores y del equipo en cada uno de los juegos, es decir , es posible hacer preguntas y responderlas para obtener nuevos conocimientos sobre los equipos, los jugadores y la competencia en sí. Por ejemplo, se puede analizar la tendencia de los equipos en casa y fuera de casa, las estadísticas de los jugadores en diferentes momentos del partido, o el porcentaje de victorias y derrotas de los equipos.\n",
    "\n",
    "Este proyecto se basara en utilizar los datos disponibles para encontrar las diferencias y probrabilidades en cada partido dado durante los años jugados por la NBA. El objetivo se centrara en poder adquirir una variable que determine un numero en el cual se basara la cuota cobrada por el sistema de apuestas. Ademas , este analisis proovera al cliente con el gran beneficio del conocimiento y la ventaja por sobre la competencia , o hacia los mismos usuarios de la plataforma.\n",
    "\n",
    "Asi, lo visto durante un analisis exploratorio de los datos y las caracteristicas del conjunto , se plantearan las primeras hipotesis para luego establecer un modelo predictivo de los datos de interes. Luego de un resultado final , se podra verificar el uso de las herramientas y las capacidades un sistema de ML."
   ]
  },
  {
   "attachments": {},
   "cell_type": "markdown",
   "metadata": {},
   "source": [
    "## Analisis exploratorio complementario (Adquisicion de datos por APIs)\n",
    "\n",
    "Una manera de encontrar la forma correcta de establecer la cuota , es simplemente una visualizacion rapida de lo que se suele utilizar en las plataformas , es "
   ]
  },
  {
   "cell_type": "code",
   "execution_count": null,
   "metadata": {},
   "outputs": [],
   "source": [
    "\"\"\"from nba_api.stats.static import teams\n",
    "# Get all teams.\n",
    "teams.get_teams()\"\"\"\n",
    "\n",
    "import requests\n",
    "url = \"https://api.the-odds-api.com\"\n",
    "sports= requests.get(url+\"/v3/sports/?apiKey=b7e26b03e8cfa48d2a80e4a8a2027545\").json()\n",
    "odds= requests.get(url+\"/v4/sports/basketball_nba/odds/?apiKey=b7e26b03e8cfa48d2a80e4a8a2027545&regions=us&markets=h2h\").json()\n",
    "\"\"\"GET /v4/sports/{sport}/odds/?apiKey={apiKey}&regions={regions}&markets={markets}\"\"\"\n",
    "odds"
   ]
  }
 ],
 "metadata": {
  "language_info": {
   "name": "python"
  },
  "orig_nbformat": 4
 },
 "nbformat": 4,
 "nbformat_minor": 2
}
